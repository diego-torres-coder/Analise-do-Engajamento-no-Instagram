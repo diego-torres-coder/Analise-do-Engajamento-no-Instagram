{
 "cells": [
  {
   "cell_type": "markdown",
   "id": "bccf2077-e6fd-4810-a2db-523b207940c4",
   "metadata": {},
   "source": [
    "# Analisando Engajamento no Instagram (Parte 2)"
   ]
  },
  {
   "cell_type": "markdown",
   "id": "7d096fc4-ec71-4565-bf8d-9ea0ab21897d",
   "metadata": {},
   "source": [
    "## Pergunta Fundamental"
   ]
  },
  {
   "cell_type": "markdown",
   "id": "e9a18cc7-0994-4c17-a781-bfebac4dfe6d",
   "metadata": {},
   "source": [
    "Desejamos obter uma resposta para a pergunta a seguir:\n",
    "\n",
    "- Qual é a tag que gera mais engajamento?"
   ]
  },
  {
   "cell_type": "markdown",
   "id": "48e641b9-fb8e-43ff-b843-5952c648a311",
   "metadata": {},
   "source": [
    "Os direcionamentos do cliente continuam válidos para esta análise."
   ]
  },
  {
   "cell_type": "markdown",
   "id": "2eb0b281-aca5-4284-9a55-cad5da038efc",
   "metadata": {},
   "source": [
    "## Análise da Base de Dados"
   ]
  },
  {
   "cell_type": "markdown",
   "id": "5891fadf-1159-4818-a0df-dadc05dea519",
   "metadata": {},
   "source": [
    "### Importação das Bibliotecas"
   ]
  },
  {
   "cell_type": "code",
   "execution_count": 1,
   "id": "260e2c2b-8f13-44ec-acd0-4db021b77da6",
   "metadata": {
    "tags": []
   },
   "outputs": [],
   "source": [
    "# Importa o numpy com o apelido np\n",
    "import numpy as np\n",
    "\n",
    "# Importa o pandas com o apelido pd\n",
    "import pandas as pd\n",
    "\n",
    "# Importa o pyplot com o apelido plt\n",
    "from matplotlib import pyplot as plt"
   ]
  },
  {
   "cell_type": "code",
   "execution_count": 2,
   "id": "86cd1705-a6c1-4132-84ab-58ea66e1615a",
   "metadata": {
    "tags": []
   },
   "outputs": [],
   "source": [
    "# Configuração para exibição de números decimais\n",
    "pd.options.display.float_format = '{:,.2f}'.format\n",
    "\n",
    "# Define um estilo para os gráficos do matplotlib\n",
    "plt.style.use('seaborn-v0_8')"
   ]
  },
  {
   "cell_type": "markdown",
   "id": "9ad0780d-616d-4334-bd73-596f87159718",
   "metadata": {},
   "source": [
    "### Importação da Base de Dados"
   ]
  },
  {
   "cell_type": "code",
   "execution_count": 3,
   "id": "941fe9be-8906-4269-ae86-8b7fa461f589",
   "metadata": {
    "tags": []
   },
   "outputs": [],
   "source": [
    "base = pd.read_excel('dados-instagram.xlsx')"
   ]
  },
  {
   "cell_type": "code",
   "execution_count": 4,
   "id": "a1333b0d-e42f-42e5-a33a-76b81c528edd",
   "metadata": {
    "tags": []
   },
   "outputs": [
    {
     "data": {
      "text/html": [
       "<div>\n",
       "<style scoped>\n",
       "    .dataframe tbody tr th:only-of-type {\n",
       "        vertical-align: middle;\n",
       "    }\n",
       "\n",
       "    .dataframe tbody tr th {\n",
       "        vertical-align: top;\n",
       "    }\n",
       "\n",
       "    .dataframe thead th {\n",
       "        text-align: right;\n",
       "    }\n",
       "</style>\n",
       "<table border=\"1\" class=\"dataframe\">\n",
       "  <thead>\n",
       "    <tr style=\"text-align: right;\">\n",
       "      <th></th>\n",
       "      <th>Tipo</th>\n",
       "      <th>Data</th>\n",
       "      <th>Curtidas</th>\n",
       "      <th>Comentários</th>\n",
       "      <th>Visualizações</th>\n",
       "      <th>Tags</th>\n",
       "      <th>Pessoas</th>\n",
       "      <th>Campanhas</th>\n",
       "      <th>Carrossel</th>\n",
       "      <th>Interacoes</th>\n",
       "    </tr>\n",
       "  </thead>\n",
       "  <tbody>\n",
       "    <tr>\n",
       "      <th>0</th>\n",
       "      <td>Foto</td>\n",
       "      <td>2021-09-11</td>\n",
       "      <td>2858</td>\n",
       "      <td>16</td>\n",
       "      <td>NaN</td>\n",
       "      <td>Loja</td>\n",
       "      <td>N</td>\n",
       "      <td>N</td>\n",
       "      <td>NaN</td>\n",
       "      <td>2874</td>\n",
       "    </tr>\n",
       "    <tr>\n",
       "      <th>1</th>\n",
       "      <td>Foto</td>\n",
       "      <td>2021-09-11</td>\n",
       "      <td>2930</td>\n",
       "      <td>28</td>\n",
       "      <td>NaN</td>\n",
       "      <td>Loja/Produtos</td>\n",
       "      <td>N</td>\n",
       "      <td>N</td>\n",
       "      <td>NaN</td>\n",
       "      <td>2958</td>\n",
       "    </tr>\n",
       "    <tr>\n",
       "      <th>2</th>\n",
       "      <td>Foto</td>\n",
       "      <td>2021-09-11</td>\n",
       "      <td>2807</td>\n",
       "      <td>9</td>\n",
       "      <td>NaN</td>\n",
       "      <td>Loja</td>\n",
       "      <td>N</td>\n",
       "      <td>N</td>\n",
       "      <td>NaN</td>\n",
       "      <td>2816</td>\n",
       "    </tr>\n",
       "    <tr>\n",
       "      <th>3</th>\n",
       "      <td>Vídeo</td>\n",
       "      <td>2021-09-12</td>\n",
       "      <td>5115</td>\n",
       "      <td>49</td>\n",
       "      <td>82,878.00</td>\n",
       "      <td>Produtos</td>\n",
       "      <td>N</td>\n",
       "      <td>N</td>\n",
       "      <td>NaN</td>\n",
       "      <td>5164</td>\n",
       "    </tr>\n",
       "    <tr>\n",
       "      <th>4</th>\n",
       "      <td>Foto</td>\n",
       "      <td>2021-09-13</td>\n",
       "      <td>4392</td>\n",
       "      <td>45</td>\n",
       "      <td>NaN</td>\n",
       "      <td>Produtos</td>\n",
       "      <td>S</td>\n",
       "      <td>N</td>\n",
       "      <td>NaN</td>\n",
       "      <td>4437</td>\n",
       "    </tr>\n",
       "  </tbody>\n",
       "</table>\n",
       "</div>"
      ],
      "text/plain": [
       "    Tipo       Data  Curtidas  Comentários  Visualizações           Tags   \n",
       "0   Foto 2021-09-11      2858           16            NaN           Loja  \\\n",
       "1   Foto 2021-09-11      2930           28            NaN  Loja/Produtos   \n",
       "2   Foto 2021-09-11      2807            9            NaN           Loja   \n",
       "3  Vídeo 2021-09-12      5115           49      82,878.00       Produtos   \n",
       "4   Foto 2021-09-13      4392           45            NaN       Produtos   \n",
       "\n",
       "  Pessoas Campanhas Carrossel  Interacoes   \n",
       "0       N         N       NaN         2874  \n",
       "1       N         N       NaN         2958  \n",
       "2       N         N       NaN         2816  \n",
       "3       N         N       NaN         5164  \n",
       "4       S         N       NaN         4437  "
      ]
     },
     "execution_count": 4,
     "metadata": {},
     "output_type": "execute_result"
    }
   ],
   "source": [
    "base.head()"
   ]
  },
  {
   "cell_type": "markdown",
   "id": "3d398a44-85b3-4d41-beb2-19d013dc623f",
   "metadata": {},
   "source": [
    "### Remoção de Colunas Irrelevantes"
   ]
  },
  {
   "cell_type": "code",
   "execution_count": 5,
   "id": "9e605226-0c17-4648-a8ae-a883fd156441",
   "metadata": {
    "tags": []
   },
   "outputs": [],
   "source": [
    "base = base.drop('Visualizações', axis='columns')"
   ]
  },
  {
   "cell_type": "markdown",
   "id": "acfdbae0-63f7-4022-b057-9c3be7dd7c0b",
   "metadata": {},
   "source": [
    "### Tratamento da Base"
   ]
  },
  {
   "cell_type": "code",
   "execution_count": 6,
   "id": "8c55eded-f832-4e43-9ca0-6cdebcd2ecaf",
   "metadata": {},
   "outputs": [
    {
     "data": {
      "text/plain": [
       "0             Loja\n",
       "1    Loja/Produtos\n",
       "2             Loja\n",
       "3         Produtos\n",
       "4         Produtos\n",
       "Name: Tags, dtype: object"
      ]
     },
     "execution_count": 6,
     "metadata": {},
     "output_type": "execute_result"
    }
   ],
   "source": [
    "base['Tags'].head()"
   ]
  },
  {
   "cell_type": "markdown",
   "id": "128b8600-fb88-40df-9bbc-af5df3709566",
   "metadata": {},
   "source": [
    "**Observação:** É necessário separar as tags de publicações que foram marcadas com mais de uma."
   ]
  },
  {
   "cell_type": "code",
   "execution_count": 7,
   "id": "c80d8139-62f2-49c1-b8df-0b9d514aceb6",
   "metadata": {
    "tags": []
   },
   "outputs": [
    {
     "data": {
      "text/plain": [
       "0              [Loja]\n",
       "1    [Loja, Produtos]\n",
       "2              [Loja]\n",
       "3          [Produtos]\n",
       "4          [Produtos]\n",
       "Name: Tags, dtype: object"
      ]
     },
     "execution_count": 7,
     "metadata": {},
     "output_type": "execute_result"
    }
   ],
   "source": [
    "# Divide os textos da coluna Tags com base em uma barra\n",
    "base['Tags'].str.split('/').head()"
   ]
  },
  {
   "cell_type": "markdown",
   "id": "265698db-1c27-4f45-929c-11c6a50cd703",
   "metadata": {},
   "source": [
    "**Observação:**\n",
    "Com o método `.split()` estamos dividindo os textos da coluna `Tags` com base em uma barra, obtendo uma lista com cada uma das partes do texto."
   ]
  },
  {
   "cell_type": "code",
   "execution_count": 8,
   "id": "96712f85-ecda-4519-9738-9e7372818209",
   "metadata": {
    "tags": []
   },
   "outputs": [
    {
     "data": {
      "text/plain": [
       "0        Loja\n",
       "1        Loja\n",
       "1    Produtos\n",
       "2        Loja\n",
       "3    Produtos\n",
       "Name: Tags, dtype: object"
      ]
     },
     "execution_count": 8,
     "metadata": {},
     "output_type": "execute_result"
    }
   ],
   "source": [
    "# Coloca cada um dos itens da lista em uma linha diferente\n",
    "base['Tags'].str.split('/').explode().head()"
   ]
  },
  {
   "cell_type": "markdown",
   "id": "8c1c3053-689a-472e-8184-0dccc65987be",
   "metadata": {},
   "source": [
    "**Observação:** O método `.explode()` nos permite dividir a linha que contém uma lista de forma que cada item da lista oculpe uma linha do dataframe."
   ]
  },
  {
   "cell_type": "code",
   "execution_count": 9,
   "id": "b2a20c79-eea3-4407-bb55-c468f866101b",
   "metadata": {
    "tags": []
   },
   "outputs": [],
   "source": [
    "base['Tags'] = base['Tags'].str.split('/')"
   ]
  },
  {
   "cell_type": "code",
   "execution_count": 10,
   "id": "fd3aa34e-bf02-422a-b20d-2987ff7a66b6",
   "metadata": {
    "tags": []
   },
   "outputs": [
    {
     "data": {
      "text/html": [
       "<div>\n",
       "<style scoped>\n",
       "    .dataframe tbody tr th:only-of-type {\n",
       "        vertical-align: middle;\n",
       "    }\n",
       "\n",
       "    .dataframe tbody tr th {\n",
       "        vertical-align: top;\n",
       "    }\n",
       "\n",
       "    .dataframe thead th {\n",
       "        text-align: right;\n",
       "    }\n",
       "</style>\n",
       "<table border=\"1\" class=\"dataframe\">\n",
       "  <thead>\n",
       "    <tr style=\"text-align: right;\">\n",
       "      <th></th>\n",
       "      <th>Tipo</th>\n",
       "      <th>Data</th>\n",
       "      <th>Curtidas</th>\n",
       "      <th>Comentários</th>\n",
       "      <th>Tags</th>\n",
       "      <th>Pessoas</th>\n",
       "      <th>Campanhas</th>\n",
       "      <th>Carrossel</th>\n",
       "      <th>Interacoes</th>\n",
       "    </tr>\n",
       "  </thead>\n",
       "  <tbody>\n",
       "    <tr>\n",
       "      <th>0</th>\n",
       "      <td>Foto</td>\n",
       "      <td>2021-09-11</td>\n",
       "      <td>2858</td>\n",
       "      <td>16</td>\n",
       "      <td>[Loja]</td>\n",
       "      <td>N</td>\n",
       "      <td>N</td>\n",
       "      <td>NaN</td>\n",
       "      <td>2874</td>\n",
       "    </tr>\n",
       "    <tr>\n",
       "      <th>1</th>\n",
       "      <td>Foto</td>\n",
       "      <td>2021-09-11</td>\n",
       "      <td>2930</td>\n",
       "      <td>28</td>\n",
       "      <td>[Loja, Produtos]</td>\n",
       "      <td>N</td>\n",
       "      <td>N</td>\n",
       "      <td>NaN</td>\n",
       "      <td>2958</td>\n",
       "    </tr>\n",
       "    <tr>\n",
       "      <th>2</th>\n",
       "      <td>Foto</td>\n",
       "      <td>2021-09-11</td>\n",
       "      <td>2807</td>\n",
       "      <td>9</td>\n",
       "      <td>[Loja]</td>\n",
       "      <td>N</td>\n",
       "      <td>N</td>\n",
       "      <td>NaN</td>\n",
       "      <td>2816</td>\n",
       "    </tr>\n",
       "    <tr>\n",
       "      <th>3</th>\n",
       "      <td>Vídeo</td>\n",
       "      <td>2021-09-12</td>\n",
       "      <td>5115</td>\n",
       "      <td>49</td>\n",
       "      <td>[Produtos]</td>\n",
       "      <td>N</td>\n",
       "      <td>N</td>\n",
       "      <td>NaN</td>\n",
       "      <td>5164</td>\n",
       "    </tr>\n",
       "    <tr>\n",
       "      <th>4</th>\n",
       "      <td>Foto</td>\n",
       "      <td>2021-09-13</td>\n",
       "      <td>4392</td>\n",
       "      <td>45</td>\n",
       "      <td>[Produtos]</td>\n",
       "      <td>S</td>\n",
       "      <td>N</td>\n",
       "      <td>NaN</td>\n",
       "      <td>4437</td>\n",
       "    </tr>\n",
       "  </tbody>\n",
       "</table>\n",
       "</div>"
      ],
      "text/plain": [
       "    Tipo       Data  Curtidas  Comentários              Tags Pessoas   \n",
       "0   Foto 2021-09-11      2858           16            [Loja]       N  \\\n",
       "1   Foto 2021-09-11      2930           28  [Loja, Produtos]       N   \n",
       "2   Foto 2021-09-11      2807            9            [Loja]       N   \n",
       "3  Vídeo 2021-09-12      5115           49        [Produtos]       N   \n",
       "4   Foto 2021-09-13      4392           45        [Produtos]       S   \n",
       "\n",
       "  Campanhas Carrossel  Interacoes   \n",
       "0         N       NaN         2874  \n",
       "1         N       NaN         2958  \n",
       "2         N       NaN         2816  \n",
       "3         N       NaN         5164  \n",
       "4         N       NaN         4437  "
      ]
     },
     "execution_count": 10,
     "metadata": {},
     "output_type": "execute_result"
    }
   ],
   "source": [
    "base.head()"
   ]
  },
  {
   "cell_type": "code",
   "execution_count": 11,
   "id": "3f79cf43-566b-4c0d-8d71-07c96501baee",
   "metadata": {
    "tags": []
   },
   "outputs": [
    {
     "data": {
      "text/html": [
       "<div>\n",
       "<style scoped>\n",
       "    .dataframe tbody tr th:only-of-type {\n",
       "        vertical-align: middle;\n",
       "    }\n",
       "\n",
       "    .dataframe tbody tr th {\n",
       "        vertical-align: top;\n",
       "    }\n",
       "\n",
       "    .dataframe thead th {\n",
       "        text-align: right;\n",
       "    }\n",
       "</style>\n",
       "<table border=\"1\" class=\"dataframe\">\n",
       "  <thead>\n",
       "    <tr style=\"text-align: right;\">\n",
       "      <th></th>\n",
       "      <th>Tipo</th>\n",
       "      <th>Data</th>\n",
       "      <th>Curtidas</th>\n",
       "      <th>Comentários</th>\n",
       "      <th>Tags</th>\n",
       "      <th>Pessoas</th>\n",
       "      <th>Campanhas</th>\n",
       "      <th>Carrossel</th>\n",
       "      <th>Interacoes</th>\n",
       "    </tr>\n",
       "  </thead>\n",
       "  <tbody>\n",
       "    <tr>\n",
       "      <th>0</th>\n",
       "      <td>Foto</td>\n",
       "      <td>2021-09-11</td>\n",
       "      <td>2858</td>\n",
       "      <td>16</td>\n",
       "      <td>Loja</td>\n",
       "      <td>N</td>\n",
       "      <td>N</td>\n",
       "      <td>NaN</td>\n",
       "      <td>2874</td>\n",
       "    </tr>\n",
       "    <tr>\n",
       "      <th>1</th>\n",
       "      <td>Foto</td>\n",
       "      <td>2021-09-11</td>\n",
       "      <td>2930</td>\n",
       "      <td>28</td>\n",
       "      <td>Loja</td>\n",
       "      <td>N</td>\n",
       "      <td>N</td>\n",
       "      <td>NaN</td>\n",
       "      <td>2958</td>\n",
       "    </tr>\n",
       "    <tr>\n",
       "      <th>1</th>\n",
       "      <td>Foto</td>\n",
       "      <td>2021-09-11</td>\n",
       "      <td>2930</td>\n",
       "      <td>28</td>\n",
       "      <td>Produtos</td>\n",
       "      <td>N</td>\n",
       "      <td>N</td>\n",
       "      <td>NaN</td>\n",
       "      <td>2958</td>\n",
       "    </tr>\n",
       "    <tr>\n",
       "      <th>2</th>\n",
       "      <td>Foto</td>\n",
       "      <td>2021-09-11</td>\n",
       "      <td>2807</td>\n",
       "      <td>9</td>\n",
       "      <td>Loja</td>\n",
       "      <td>N</td>\n",
       "      <td>N</td>\n",
       "      <td>NaN</td>\n",
       "      <td>2816</td>\n",
       "    </tr>\n",
       "    <tr>\n",
       "      <th>3</th>\n",
       "      <td>Vídeo</td>\n",
       "      <td>2021-09-12</td>\n",
       "      <td>5115</td>\n",
       "      <td>49</td>\n",
       "      <td>Produtos</td>\n",
       "      <td>N</td>\n",
       "      <td>N</td>\n",
       "      <td>NaN</td>\n",
       "      <td>5164</td>\n",
       "    </tr>\n",
       "  </tbody>\n",
       "</table>\n",
       "</div>"
      ],
      "text/plain": [
       "    Tipo       Data  Curtidas  Comentários      Tags Pessoas Campanhas   \n",
       "0   Foto 2021-09-11      2858           16      Loja       N         N  \\\n",
       "1   Foto 2021-09-11      2930           28      Loja       N         N   \n",
       "1   Foto 2021-09-11      2930           28  Produtos       N         N   \n",
       "2   Foto 2021-09-11      2807            9      Loja       N         N   \n",
       "3  Vídeo 2021-09-12      5115           49  Produtos       N         N   \n",
       "\n",
       "  Carrossel  Interacoes   \n",
       "0       NaN         2874  \n",
       "1       NaN         2958  \n",
       "1       NaN         2958  \n",
       "2       NaN         2816  \n",
       "3       NaN         5164  "
      ]
     },
     "execution_count": 11,
     "metadata": {},
     "output_type": "execute_result"
    }
   ],
   "source": [
    "base = base.explode('Tags')\n",
    "base.head()"
   ]
  },
  {
   "cell_type": "markdown",
   "id": "de4ab024-d6e0-4508-8719-efd528f0c77f",
   "metadata": {},
   "source": [
    "### Agregando Informações"
   ]
  },
  {
   "cell_type": "markdown",
   "id": "4c45075d-793a-43f7-88c8-3b54c7001dbc",
   "metadata": {},
   "source": [
    "#### Segmentação por Tags"
   ]
  },
  {
   "cell_type": "code",
   "execution_count": 12,
   "id": "5dd4bece-0901-48c2-9da2-3a53eae79d9b",
   "metadata": {
    "tags": []
   },
   "outputs": [],
   "source": [
    "# Filtra a base para obter as publicações sem tags para poder atribuir um valor aos registros nulos\n",
    "base.loc[base['Tags'].isnull(), 'Tags'] = 'Sem tag'"
   ]
  },
  {
   "cell_type": "code",
   "execution_count": 13,
   "id": "2597b5a6-5657-480e-b6bc-ae216113e97c",
   "metadata": {
    "tags": []
   },
   "outputs": [
    {
     "data": {
      "text/html": [
       "<div>\n",
       "<style scoped>\n",
       "    .dataframe tbody tr th:only-of-type {\n",
       "        vertical-align: middle;\n",
       "    }\n",
       "\n",
       "    .dataframe tbody tr th {\n",
       "        vertical-align: top;\n",
       "    }\n",
       "\n",
       "    .dataframe thead th {\n",
       "        text-align: right;\n",
       "    }\n",
       "</style>\n",
       "<table border=\"1\" class=\"dataframe\">\n",
       "  <thead>\n",
       "    <tr style=\"text-align: right;\">\n",
       "      <th></th>\n",
       "      <th>Curtidas</th>\n",
       "      <th>Comentários</th>\n",
       "    </tr>\n",
       "    <tr>\n",
       "      <th>Tags</th>\n",
       "      <th></th>\n",
       "      <th></th>\n",
       "    </tr>\n",
       "  </thead>\n",
       "  <tbody>\n",
       "    <tr>\n",
       "      <th>Datas comemorativas</th>\n",
       "      <td>20,752.25</td>\n",
       "      <td>343.50</td>\n",
       "    </tr>\n",
       "    <tr>\n",
       "      <th>Dicas de como usar</th>\n",
       "      <td>6,833.40</td>\n",
       "      <td>133.60</td>\n",
       "    </tr>\n",
       "    <tr>\n",
       "      <th>Influenciadores</th>\n",
       "      <td>15,197.29</td>\n",
       "      <td>161.71</td>\n",
       "    </tr>\n",
       "    <tr>\n",
       "      <th>Loja</th>\n",
       "      <td>2,865.00</td>\n",
       "      <td>17.67</td>\n",
       "    </tr>\n",
       "    <tr>\n",
       "      <th>Novos Produtos</th>\n",
       "      <td>10,304.89</td>\n",
       "      <td>198.56</td>\n",
       "    </tr>\n",
       "    <tr>\n",
       "      <th>Produtos</th>\n",
       "      <td>6,269.82</td>\n",
       "      <td>94.12</td>\n",
       "    </tr>\n",
       "    <tr>\n",
       "      <th>Promoções</th>\n",
       "      <td>27,458.33</td>\n",
       "      <td>531.00</td>\n",
       "    </tr>\n",
       "    <tr>\n",
       "      <th>Sem tag</th>\n",
       "      <td>15,347.88</td>\n",
       "      <td>207.75</td>\n",
       "    </tr>\n",
       "    <tr>\n",
       "      <th>Trends</th>\n",
       "      <td>20,024.00</td>\n",
       "      <td>352.25</td>\n",
       "    </tr>\n",
       "  </tbody>\n",
       "</table>\n",
       "</div>"
      ],
      "text/plain": [
       "                     Curtidas  Comentários\n",
       "Tags                                      \n",
       "Datas comemorativas 20,752.25       343.50\n",
       "Dicas de como usar   6,833.40       133.60\n",
       "Influenciadores     15,197.29       161.71\n",
       "Loja                 2,865.00        17.67\n",
       "Novos Produtos      10,304.89       198.56\n",
       "Produtos             6,269.82        94.12\n",
       "Promoções           27,458.33       531.00\n",
       "Sem tag             15,347.88       207.75\n",
       "Trends              20,024.00       352.25"
      ]
     },
     "execution_count": 13,
     "metadata": {},
     "output_type": "execute_result"
    }
   ],
   "source": [
    "# Agrupa os dados por tags, calculando a média de curtidas e de comentários\n",
    "base.groupby('Tags')[['Curtidas', 'Comentários']].mean()"
   ]
  },
  {
   "cell_type": "code",
   "execution_count": 14,
   "id": "d352d046-72a6-48ee-854e-be2816b5ebb2",
   "metadata": {
    "tags": []
   },
   "outputs": [
    {
     "data": {
      "text/html": [
       "<div>\n",
       "<style scoped>\n",
       "    .dataframe tbody tr th:only-of-type {\n",
       "        vertical-align: middle;\n",
       "    }\n",
       "\n",
       "    .dataframe tbody tr th {\n",
       "        vertical-align: top;\n",
       "    }\n",
       "\n",
       "    .dataframe thead th {\n",
       "        text-align: right;\n",
       "    }\n",
       "</style>\n",
       "<table border=\"1\" class=\"dataframe\">\n",
       "  <thead>\n",
       "    <tr style=\"text-align: right;\">\n",
       "      <th></th>\n",
       "      <th>Curtidas</th>\n",
       "      <th>Comentários</th>\n",
       "    </tr>\n",
       "    <tr>\n",
       "      <th>Tags</th>\n",
       "      <th></th>\n",
       "      <th></th>\n",
       "    </tr>\n",
       "  </thead>\n",
       "  <tbody>\n",
       "    <tr>\n",
       "      <th>Promoções</th>\n",
       "      <td>27,458.33</td>\n",
       "      <td>531.00</td>\n",
       "    </tr>\n",
       "    <tr>\n",
       "      <th>Datas comemorativas</th>\n",
       "      <td>20,752.25</td>\n",
       "      <td>343.50</td>\n",
       "    </tr>\n",
       "    <tr>\n",
       "      <th>Trends</th>\n",
       "      <td>20,024.00</td>\n",
       "      <td>352.25</td>\n",
       "    </tr>\n",
       "    <tr>\n",
       "      <th>Sem tag</th>\n",
       "      <td>15,347.88</td>\n",
       "      <td>207.75</td>\n",
       "    </tr>\n",
       "    <tr>\n",
       "      <th>Influenciadores</th>\n",
       "      <td>15,197.29</td>\n",
       "      <td>161.71</td>\n",
       "    </tr>\n",
       "    <tr>\n",
       "      <th>Novos Produtos</th>\n",
       "      <td>10,304.89</td>\n",
       "      <td>198.56</td>\n",
       "    </tr>\n",
       "    <tr>\n",
       "      <th>Dicas de como usar</th>\n",
       "      <td>6,833.40</td>\n",
       "      <td>133.60</td>\n",
       "    </tr>\n",
       "    <tr>\n",
       "      <th>Produtos</th>\n",
       "      <td>6,269.82</td>\n",
       "      <td>94.12</td>\n",
       "    </tr>\n",
       "    <tr>\n",
       "      <th>Loja</th>\n",
       "      <td>2,865.00</td>\n",
       "      <td>17.67</td>\n",
       "    </tr>\n",
       "  </tbody>\n",
       "</table>\n",
       "</div>"
      ],
      "text/plain": [
       "                     Curtidas  Comentários\n",
       "Tags                                      \n",
       "Promoções           27,458.33       531.00\n",
       "Datas comemorativas 20,752.25       343.50\n",
       "Trends              20,024.00       352.25\n",
       "Sem tag             15,347.88       207.75\n",
       "Influenciadores     15,197.29       161.71\n",
       "Novos Produtos      10,304.89       198.56\n",
       "Dicas de como usar   6,833.40       133.60\n",
       "Produtos             6,269.82        94.12\n",
       "Loja                 2,865.00        17.67"
      ]
     },
     "execution_count": 14,
     "metadata": {},
     "output_type": "execute_result"
    }
   ],
   "source": [
    "# Obtém uma tabela com dados agregados e ordenados em ordem decrescente de média de curtida\n",
    "base.groupby('Tags')[['Curtidas', 'Comentários']].mean().sort_values(by='Curtidas', ascending=False)"
   ]
  },
  {
   "cell_type": "code",
   "execution_count": 15,
   "id": "37b23788-cce3-4bf9-9b3e-89d7cd840e3c",
   "metadata": {
    "tags": []
   },
   "outputs": [],
   "source": [
    "# Armazena a tabela agregado em uma variável\n",
    "df_tags = base.groupby('Tags')[['Curtidas', 'Comentários']].mean().sort_values(by='Curtidas', ascending=False)\n",
    "\n",
    "# Redefine os índices\n",
    "df_tags.reset_index(inplace=True)"
   ]
  },
  {
   "cell_type": "code",
   "execution_count": 16,
   "id": "ccfbfaf6-f2c7-4a17-9bc7-3266a90beb3a",
   "metadata": {
    "tags": []
   },
   "outputs": [
    {
     "data": {
      "text/html": [
       "<div>\n",
       "<style scoped>\n",
       "    .dataframe tbody tr th:only-of-type {\n",
       "        vertical-align: middle;\n",
       "    }\n",
       "\n",
       "    .dataframe tbody tr th {\n",
       "        vertical-align: top;\n",
       "    }\n",
       "\n",
       "    .dataframe thead th {\n",
       "        text-align: right;\n",
       "    }\n",
       "</style>\n",
       "<table border=\"1\" class=\"dataframe\">\n",
       "  <thead>\n",
       "    <tr style=\"text-align: right;\">\n",
       "      <th></th>\n",
       "      <th>Tags</th>\n",
       "      <th>Curtidas</th>\n",
       "      <th>Comentários</th>\n",
       "    </tr>\n",
       "  </thead>\n",
       "  <tbody>\n",
       "    <tr>\n",
       "      <th>0</th>\n",
       "      <td>Promoções</td>\n",
       "      <td>27,458.33</td>\n",
       "      <td>531.00</td>\n",
       "    </tr>\n",
       "    <tr>\n",
       "      <th>1</th>\n",
       "      <td>Datas comemorativas</td>\n",
       "      <td>20,752.25</td>\n",
       "      <td>343.50</td>\n",
       "    </tr>\n",
       "    <tr>\n",
       "      <th>2</th>\n",
       "      <td>Trends</td>\n",
       "      <td>20,024.00</td>\n",
       "      <td>352.25</td>\n",
       "    </tr>\n",
       "    <tr>\n",
       "      <th>3</th>\n",
       "      <td>Sem tag</td>\n",
       "      <td>15,347.88</td>\n",
       "      <td>207.75</td>\n",
       "    </tr>\n",
       "    <tr>\n",
       "      <th>4</th>\n",
       "      <td>Influenciadores</td>\n",
       "      <td>15,197.29</td>\n",
       "      <td>161.71</td>\n",
       "    </tr>\n",
       "  </tbody>\n",
       "</table>\n",
       "</div>"
      ],
      "text/plain": [
       "                  Tags  Curtidas  Comentários\n",
       "0            Promoções 27,458.33       531.00\n",
       "1  Datas comemorativas 20,752.25       343.50\n",
       "2               Trends 20,024.00       352.25\n",
       "3              Sem tag 15,347.88       207.75\n",
       "4      Influenciadores 15,197.29       161.71"
      ]
     },
     "execution_count": 16,
     "metadata": {},
     "output_type": "execute_result"
    }
   ],
   "source": [
    "# Exibe as cinco primeiras linhas da base\n",
    "df_tags.head()"
   ]
  },
  {
   "cell_type": "code",
   "execution_count": 26,
   "id": "15b23c15-6482-4fa9-b9e8-08e5e978a891",
   "metadata": {
    "tags": []
   },
   "outputs": [
    {
     "data": {
      "image/png": "[encoded data removed]",
      "text/plain": [
       "<Figure size 1400x400 with 1 Axes>"
      ]
     },
     "metadata": {},
     "output_type": "display_data"
    }
   ],
   "source": [
    "# Plota um gráfico de barras vertical para visualizarmos o total de curtidas por tag\n",
    "df_tags.plot(kind='barh', x='Tags', y='Curtidas', xlabel='Número de Curtidas', title='Média de Curtidas por Tag', figsize=(14,4))\n",
    "\n",
    "# Exibe o gráfico\n",
    "plt.show()"
   ]
  },
  {
   "cell_type": "markdown",
   "id": "ba3684b7-f95f-4ef8-a1bf-24b77ab047f5",
   "metadata": {},
   "source": [
    "**Observações**: \n",
    "\n",
    "- A média de curtidas para publicações marcadas como **Promoção** é de cerca de 27,5 mil, superando a média das marcadas como **Datas comemorativas** (20,7 mil) e da marcadas como **Trends** (20 mil)\n",
    "- As publicações sem tags tiveram um bom engajamento, com uma méida de 15,3 mil curtidas, ficando atrás apenas das publicações marcadas como **Promoções**, **Datas comemorativas** e **Trends**."
   ]
  },
  {
   "cell_type": "markdown",
   "id": "c81f7e3c-695a-4584-8d3c-e5ffef2ef793",
   "metadata": {},
   "source": [
    "#### Segmentação por Pessoas e por Tags"
   ]
  },
  {
   "cell_type": "code",
   "execution_count": 20,
   "id": "71a6b907-ba32-4a14-bf2b-7d50e1e99bfa",
   "metadata": {
    "tags": []
   },
   "outputs": [
    {
     "data": {
      "text/html": [
       "<div>\n",
       "<style scoped>\n",
       "    .dataframe tbody tr th:only-of-type {\n",
       "        vertical-align: middle;\n",
       "    }\n",
       "\n",
       "    .dataframe tbody tr th {\n",
       "        vertical-align: top;\n",
       "    }\n",
       "\n",
       "    .dataframe thead th {\n",
       "        text-align: right;\n",
       "    }\n",
       "</style>\n",
       "<table border=\"1\" class=\"dataframe\">\n",
       "  <thead>\n",
       "    <tr style=\"text-align: right;\">\n",
       "      <th></th>\n",
       "      <th></th>\n",
       "      <th>Curtidas</th>\n",
       "      <th>Comentários</th>\n",
       "    </tr>\n",
       "    <tr>\n",
       "      <th>Pessoas</th>\n",
       "      <th>Tags</th>\n",
       "      <th></th>\n",
       "      <th></th>\n",
       "    </tr>\n",
       "  </thead>\n",
       "  <tbody>\n",
       "    <tr>\n",
       "      <th rowspan=\"8\" valign=\"top\">S</th>\n",
       "      <th>Promoções</th>\n",
       "      <td>27,458.33</td>\n",
       "      <td>531.00</td>\n",
       "    </tr>\n",
       "    <tr>\n",
       "      <th>Datas comemorativas</th>\n",
       "      <td>20,752.25</td>\n",
       "      <td>343.50</td>\n",
       "    </tr>\n",
       "    <tr>\n",
       "      <th>Trends</th>\n",
       "      <td>20,024.00</td>\n",
       "      <td>352.25</td>\n",
       "    </tr>\n",
       "    <tr>\n",
       "      <th>Sem tag</th>\n",
       "      <td>15,347.88</td>\n",
       "      <td>207.75</td>\n",
       "    </tr>\n",
       "    <tr>\n",
       "      <th>Influenciadores</th>\n",
       "      <td>15,197.29</td>\n",
       "      <td>161.71</td>\n",
       "    </tr>\n",
       "    <tr>\n",
       "      <th>Novos Produtos</th>\n",
       "      <td>10,923.12</td>\n",
       "      <td>215.62</td>\n",
       "    </tr>\n",
       "    <tr>\n",
       "      <th>Produtos</th>\n",
       "      <td>8,316.38</td>\n",
       "      <td>131.62</td>\n",
       "    </tr>\n",
       "    <tr>\n",
       "      <th>Dicas de como usar</th>\n",
       "      <td>6,833.40</td>\n",
       "      <td>133.60</td>\n",
       "    </tr>\n",
       "    <tr>\n",
       "      <th rowspan=\"3\" valign=\"top\">N</th>\n",
       "      <th>Novos Produtos</th>\n",
       "      <td>5,359.00</td>\n",
       "      <td>62.00</td>\n",
       "    </tr>\n",
       "    <tr>\n",
       "      <th>Produtos</th>\n",
       "      <td>4,450.67</td>\n",
       "      <td>60.78</td>\n",
       "    </tr>\n",
       "    <tr>\n",
       "      <th>Loja</th>\n",
       "      <td>2,865.00</td>\n",
       "      <td>17.67</td>\n",
       "    </tr>\n",
       "  </tbody>\n",
       "</table>\n",
       "</div>"
      ],
      "text/plain": [
       "                             Curtidas  Comentários\n",
       "Pessoas Tags                                      \n",
       "S       Promoções           27,458.33       531.00\n",
       "        Datas comemorativas 20,752.25       343.50\n",
       "        Trends              20,024.00       352.25\n",
       "        Sem tag             15,347.88       207.75\n",
       "        Influenciadores     15,197.29       161.71\n",
       "        Novos Produtos      10,923.12       215.62\n",
       "        Produtos             8,316.38       131.62\n",
       "        Dicas de como usar   6,833.40       133.60\n",
       "N       Novos Produtos       5,359.00        62.00\n",
       "        Produtos             4,450.67        60.78\n",
       "        Loja                 2,865.00        17.67"
      ]
     },
     "execution_count": 20,
     "metadata": {},
     "output_type": "execute_result"
    }
   ],
   "source": [
    "base.groupby(['Pessoas', 'Tags'])[['Curtidas', 'Comentários']].mean().sort_values(by='Curtidas', ascending=False)"
   ]
  },
  {
   "cell_type": "markdown",
   "id": "51c9b888-54cf-4879-9716-efd6dc480782",
   "metadata": {},
   "source": [
    "**Observações:** \n",
    "\n",
    "- Todas as tags de publicações que tinham pessoas apresentaram média de curtidas superior a 6,8 mil\n",
    "- A tag `Loja` não teve um bom desempenho, porém não existia nenhuma publicação com esta tag que envolvia pessoas\n",
    "- As tags `Produtos` e `Novos Produtos` tiveram desempenho superior quando a publicação envolvia pessoas"
   ]
  },
  {
   "cell_type": "markdown",
   "id": "c7dcbe60-a6ff-45e4-95ed-d83d11d3daa0",
   "metadata": {},
   "source": [
    "#### Segmentação por Campanhas e Tags"
   ]
  },
  {
   "cell_type": "code",
   "execution_count": 21,
   "id": "348b1371-5dec-4046-a45f-55e32c4f967c",
   "metadata": {
    "tags": []
   },
   "outputs": [
    {
     "data": {
      "text/html": [
       "<div>\n",
       "<style scoped>\n",
       "    .dataframe tbody tr th:only-of-type {\n",
       "        vertical-align: middle;\n",
       "    }\n",
       "\n",
       "    .dataframe tbody tr th {\n",
       "        vertical-align: top;\n",
       "    }\n",
       "\n",
       "    .dataframe thead th {\n",
       "        text-align: right;\n",
       "    }\n",
       "</style>\n",
       "<table border=\"1\" class=\"dataframe\">\n",
       "  <thead>\n",
       "    <tr style=\"text-align: right;\">\n",
       "      <th></th>\n",
       "      <th></th>\n",
       "      <th>Curtidas</th>\n",
       "      <th>Comentários</th>\n",
       "    </tr>\n",
       "    <tr>\n",
       "      <th>Campanhas</th>\n",
       "      <th>Tags</th>\n",
       "      <th></th>\n",
       "      <th></th>\n",
       "    </tr>\n",
       "  </thead>\n",
       "  <tbody>\n",
       "    <tr>\n",
       "      <th rowspan=\"5\" valign=\"top\">S</th>\n",
       "      <th>Promoções</th>\n",
       "      <td>33,217.50</td>\n",
       "      <td>490.50</td>\n",
       "    </tr>\n",
       "    <tr>\n",
       "      <th>Trends</th>\n",
       "      <td>22,400.67</td>\n",
       "      <td>386.67</td>\n",
       "    </tr>\n",
       "    <tr>\n",
       "      <th>Datas comemorativas</th>\n",
       "      <td>20,752.25</td>\n",
       "      <td>343.50</td>\n",
       "    </tr>\n",
       "    <tr>\n",
       "      <th>Influenciadores</th>\n",
       "      <td>18,715.40</td>\n",
       "      <td>197.60</td>\n",
       "    </tr>\n",
       "    <tr>\n",
       "      <th>Sem tag</th>\n",
       "      <td>16,850.75</td>\n",
       "      <td>257.75</td>\n",
       "    </tr>\n",
       "    <tr>\n",
       "      <th rowspan=\"3\" valign=\"top\">N</th>\n",
       "      <th>Promoções</th>\n",
       "      <td>15,940.00</td>\n",
       "      <td>612.00</td>\n",
       "    </tr>\n",
       "    <tr>\n",
       "      <th>Sem tag</th>\n",
       "      <td>13,845.00</td>\n",
       "      <td>157.75</td>\n",
       "    </tr>\n",
       "    <tr>\n",
       "      <th>Trends</th>\n",
       "      <td>12,894.00</td>\n",
       "      <td>249.00</td>\n",
       "    </tr>\n",
       "    <tr>\n",
       "      <th>S</th>\n",
       "      <th>Novos Produtos</th>\n",
       "      <td>11,040.67</td>\n",
       "      <td>323.00</td>\n",
       "    </tr>\n",
       "    <tr>\n",
       "      <th>N</th>\n",
       "      <th>Novos Produtos</th>\n",
       "      <td>9,937.00</td>\n",
       "      <td>136.33</td>\n",
       "    </tr>\n",
       "    <tr>\n",
       "      <th>S</th>\n",
       "      <th>Produtos</th>\n",
       "      <td>9,074.00</td>\n",
       "      <td>67.50</td>\n",
       "    </tr>\n",
       "    <tr>\n",
       "      <th rowspan=\"4\" valign=\"top\">N</th>\n",
       "      <th>Dicas de como usar</th>\n",
       "      <td>6,833.40</td>\n",
       "      <td>133.60</td>\n",
       "    </tr>\n",
       "    <tr>\n",
       "      <th>Influenciadores</th>\n",
       "      <td>6,402.00</td>\n",
       "      <td>72.00</td>\n",
       "    </tr>\n",
       "    <tr>\n",
       "      <th>Produtos</th>\n",
       "      <td>5,895.93</td>\n",
       "      <td>97.67</td>\n",
       "    </tr>\n",
       "    <tr>\n",
       "      <th>Loja</th>\n",
       "      <td>2,865.00</td>\n",
       "      <td>17.67</td>\n",
       "    </tr>\n",
       "  </tbody>\n",
       "</table>\n",
       "</div>"
      ],
      "text/plain": [
       "                               Curtidas  Comentários\n",
       "Campanhas Tags                                      \n",
       "S         Promoções           33,217.50       490.50\n",
       "          Trends              22,400.67       386.67\n",
       "          Datas comemorativas 20,752.25       343.50\n",
       "          Influenciadores     18,715.40       197.60\n",
       "          Sem tag             16,850.75       257.75\n",
       "N         Promoções           15,940.00       612.00\n",
       "          Sem tag             13,845.00       157.75\n",
       "          Trends              12,894.00       249.00\n",
       "S         Novos Produtos      11,040.67       323.00\n",
       "N         Novos Produtos       9,937.00       136.33\n",
       "S         Produtos             9,074.00        67.50\n",
       "N         Dicas de como usar   6,833.40       133.60\n",
       "          Influenciadores      6,402.00        72.00\n",
       "          Produtos             5,895.93        97.67\n",
       "          Loja                 2,865.00        17.67"
      ]
     },
     "execution_count": 21,
     "metadata": {},
     "output_type": "execute_result"
    }
   ],
   "source": [
    "base.groupby(['Campanhas', 'Tags'])[['Curtidas', 'Comentários']].mean().sort_values(by='Curtidas', ascending=False)"
   ]
  },
  {
   "cell_type": "markdown",
   "id": "25890e41-f772-4662-bdab-ad5b18a5e2df",
   "metadata": {},
   "source": [
    "**Observações:**\n",
    "\n",
    "- A tag `Promoções` quando associada a uma campanha tem excelente engajamento, com uma média de 33,2 mil curtidas, ao passo que as publicações marcadas com esta mesma tag mas sem estarem no contexto de uma campanha tem uma média de 15,9 mil curtidas \n",
    "- A tag `Trends` também apresenta melhor desempenho quando a publicação é feita durante uma campanha (média de 22,4 mil curtidas)\n",
    "- As publicações envolvendo influenciadores durante campanhas apresentam uma média de 18,7 mil curtidas. Se a publicação não envolver uma campanha, a média cai abruptamente para 6,4 mil curtidas\n",
    "- As publicações com a tag `Novos Produtos` quando associada a uma campanha (11 mil curtidas) parece não ter um resultado significavamente melhor do que as publicações com a mesma tag mas sem envolver uma campanha (9,9 mil curtidas)"
   ]
  },
  {
   "cell_type": "markdown",
   "id": "01e09955-5f28-40d3-942c-dbc042c36303",
   "metadata": {},
   "source": [
    "## Conclusões"
   ]
  },
  {
   "cell_type": "markdown",
   "id": "a93562bb-0993-49f2-8879-a6718c0ae778",
   "metadata": {},
   "source": [
    "Com base nesta análise, podemos resumir nossas conclusões com estas observações:\n",
    "\n",
    "- A presença de pessoas nas publicações é essencial para obter um bom engajamento\n",
    "- As campanhas contribuem muito com a divulgação da marca\n",
    "- As publicações marcadas com a tag `Promoções` performaram melhor do que todas as outras tags, porém seu uso deve ser analisado pela empresa devido aos custos associados\n",
    "- Os conteúdos em trend ajudam na divulgação da marca\n",
    "- É essencial que publicações marcadas com a tag de `Novos Produtos` tenham a presença de pessoas\n",
    "- A tag `Loja` não foi usada nem em publicações que tinham pessoas e nem durante campanhas, portanto não podemos extrair uma conclusão sólida acerca de seu desempenho\n",
    "- Para encontrar novos padrões nos dados, é necessário monitorar o desempenho de novas publicações que alimentem a base de dados."
   ]
  }
 ],
 "metadata": {
  "kernelspec": {
   "display_name": "Python 3 (ipykernel)",
   "language": "python",
   "name": "python3"
  },
  "language_info": {
   "codemirror_mode": {
    "name": "ipython",
    "version": 3
   },
   "file_extension": ".py",
   "mimetype": "text/x-python",
   "name": "python",
   "nbconvert_exporter": "python",
   "pygments_lexer": "ipython3",
   "version": "3.10.10"
  }
 },
 "nbformat": 4,
 "nbformat_minor": 5
}
