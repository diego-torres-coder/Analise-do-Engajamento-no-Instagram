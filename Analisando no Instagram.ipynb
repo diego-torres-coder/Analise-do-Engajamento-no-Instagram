{
 "cells": [
  {
   "cell_type": "markdown",
   "id": "0883d69e-a8f8-4acf-a3a6-fbc2643fd4dd",
   "metadata": {},
   "source": [
    "# Analisando Engajamento no Instagram (Parte 1)"
   ]
  },
  {
   "cell_type": "markdown",
   "id": "6d6668f9-d03c-41e0-9d11-9fefd628c7d2",
   "metadata": {},
   "source": [
    "## Pergunta Fundamental"
   ]
  },
  {
   "cell_type": "markdown",
   "id": "6c71c0d0-b350-49f0-9355-6b29e82c4474",
   "metadata": {},
   "source": [
    "Desejamos obter respostas para a seguinte pergunta:\n",
    "\n",
    "- Qual tipo de conteúdo gera mais engajamento na empresa?"
   ]
  },
  {
   "cell_type": "markdown",
   "id": "fbd3c357-7885-4dda-adb8-783e93d095d8",
   "metadata": {},
   "source": [
    "## Base de Dados"
   ]
  },
  {
   "cell_type": "markdown",
   "id": "98c8c472-2e05-4819-9b58-d6663a72b2d5",
   "metadata": {},
   "source": [
    "A base de dados disponível reúne informações sobre as publicações de uma empresa desde de que ela começou a publicar no Instagram até o dia 27/mar."
   ]
  },
  {
   "cell_type": "markdown",
   "id": "09276ee2-0af2-4cb1-90bb-2ce7aa1a96b6",
   "metadata": {},
   "source": [
    "## Direcionamentos do Cliente"
   ]
  },
  {
   "cell_type": "markdown",
   "id": "9fb1892d-0701-4e15-92d1-9804eaf2b9f0",
   "metadata": {},
   "source": [
    "Estes foram os direcionamentos passados pelo cliente:\n",
    "\n",
    "- Ignore a coluna de visualizações, porque queremos entender quais variáveis contribuem para um maior número de curtidas e comentários\n",
    "- Publicações sem tags realmente não possuem nenhuma tag\n",
    "- A ausência de uma tag deve ser tratada como um valor vazio"
   ]
  },
  {
   "cell_type": "markdown",
   "id": "da2678f9-0240-47a7-a187-78ab0150bd1d",
   "metadata": {},
   "source": [
    "## Análise da Base de Dados"
   ]
  },
  {
   "cell_type": "markdown",
   "id": "e4cb9ff6-3060-4bc1-90be-f3e90263b058",
   "metadata": {},
   "source": [
    "### Importação de Bibliotecas"
   ]
  },
  {
   "cell_type": "code",
   "execution_count": 1,
   "id": "3d31b4a7-42ab-4976-85b9-e891b5560d3e",
   "metadata": {},
   "outputs": [],
   "source": [
    "# Importa o numpy com o apelido np\n",
    "import numpy as np\n",
    "\n",
    "# Importa o pandas com o apelido pd\n",
    "import pandas as pd\n",
    "\n",
    "# Importa o pyplot com o apelido plt\n",
    "from matplotlib import pyplot as plt"
   ]
  },
  {
   "cell_type": "markdown",
   "id": "b4739993-4ac2-4916-a161-ea4cf1c5e391",
   "metadata": {},
   "source": [
    "### Importação da Base de Dados"
   ]
  },
  {
   "cell_type": "code",
   "execution_count": 2,
   "id": "50caeab9-f08e-4714-a7e7-bb4b182ac7d7",
   "metadata": {},
   "outputs": [],
   "source": [
    "# Lê o arquivo especificado\n",
    "base = pd.read_excel('dados-instagram.xlsx')"
   ]
  },
  {
   "cell_type": "code",
   "execution_count": 3,
   "id": "1a25a3c3-a533-457a-9030-2d10ff5575f0",
   "metadata": {},
   "outputs": [
    {
     "data": {
      "text/html": [
       "<div>\n",
       "<style scoped>\n",
       "    .dataframe tbody tr th:only-of-type {\n",
       "        vertical-align: middle;\n",
       "    }\n",
       "\n",
       "    .dataframe tbody tr th {\n",
       "        vertical-align: top;\n",
       "    }\n",
       "\n",
       "    .dataframe thead th {\n",
       "        text-align: right;\n",
       "    }\n",
       "</style>\n",
       "<table border=\"1\" class=\"dataframe\">\n",
       "  <thead>\n",
       "    <tr style=\"text-align: right;\">\n",
       "      <th></th>\n",
       "      <th>Tipo</th>\n",
       "      <th>Data</th>\n",
       "      <th>Curtidas</th>\n",
       "      <th>Comentários</th>\n",
       "      <th>Visualizações</th>\n",
       "      <th>Tags</th>\n",
       "      <th>Pessoas</th>\n",
       "      <th>Campanhas</th>\n",
       "      <th>Carrossel</th>\n",
       "      <th>Interacoes</th>\n",
       "    </tr>\n",
       "  </thead>\n",
       "  <tbody>\n",
       "    <tr>\n",
       "      <th>0</th>\n",
       "      <td>Foto</td>\n",
       "      <td>2021-09-11</td>\n",
       "      <td>2858</td>\n",
       "      <td>16</td>\n",
       "      <td>NaN</td>\n",
       "      <td>Loja</td>\n",
       "      <td>N</td>\n",
       "      <td>N</td>\n",
       "      <td>NaN</td>\n",
       "      <td>2874</td>\n",
       "    </tr>\n",
       "    <tr>\n",
       "      <th>1</th>\n",
       "      <td>Foto</td>\n",
       "      <td>2021-09-11</td>\n",
       "      <td>2930</td>\n",
       "      <td>28</td>\n",
       "      <td>NaN</td>\n",
       "      <td>Loja/Produtos</td>\n",
       "      <td>N</td>\n",
       "      <td>N</td>\n",
       "      <td>NaN</td>\n",
       "      <td>2958</td>\n",
       "    </tr>\n",
       "    <tr>\n",
       "      <th>2</th>\n",
       "      <td>Foto</td>\n",
       "      <td>2021-09-11</td>\n",
       "      <td>2807</td>\n",
       "      <td>9</td>\n",
       "      <td>NaN</td>\n",
       "      <td>Loja</td>\n",
       "      <td>N</td>\n",
       "      <td>N</td>\n",
       "      <td>NaN</td>\n",
       "      <td>2816</td>\n",
       "    </tr>\n",
       "    <tr>\n",
       "      <th>3</th>\n",
       "      <td>Vídeo</td>\n",
       "      <td>2021-09-12</td>\n",
       "      <td>5115</td>\n",
       "      <td>49</td>\n",
       "      <td>82878.0</td>\n",
       "      <td>Produtos</td>\n",
       "      <td>N</td>\n",
       "      <td>N</td>\n",
       "      <td>NaN</td>\n",
       "      <td>5164</td>\n",
       "    </tr>\n",
       "    <tr>\n",
       "      <th>4</th>\n",
       "      <td>Foto</td>\n",
       "      <td>2021-09-13</td>\n",
       "      <td>4392</td>\n",
       "      <td>45</td>\n",
       "      <td>NaN</td>\n",
       "      <td>Produtos</td>\n",
       "      <td>S</td>\n",
       "      <td>N</td>\n",
       "      <td>NaN</td>\n",
       "      <td>4437</td>\n",
       "    </tr>\n",
       "  </tbody>\n",
       "</table>\n",
       "</div>"
      ],
      "text/plain": [
       "    Tipo       Data  Curtidas  Comentários  Visualizações           Tags  \\\n",
       "0   Foto 2021-09-11      2858           16            NaN           Loja   \n",
       "1   Foto 2021-09-11      2930           28            NaN  Loja/Produtos   \n",
       "2   Foto 2021-09-11      2807            9            NaN           Loja   \n",
       "3  Vídeo 2021-09-12      5115           49        82878.0       Produtos   \n",
       "4   Foto 2021-09-13      4392           45            NaN       Produtos   \n",
       "\n",
       "  Pessoas Campanhas Carrossel  Interacoes   \n",
       "0       N         N       NaN         2874  \n",
       "1       N         N       NaN         2958  \n",
       "2       N         N       NaN         2816  \n",
       "3       N         N       NaN         5164  \n",
       "4       S         N       NaN         4437  "
      ]
     },
     "execution_count": 3,
     "metadata": {},
     "output_type": "execute_result"
    }
   ],
   "source": [
    "# Exibe as cinco primeiras linhas do dataframe\n",
    "base.head()"
   ]
  },
  {
   "cell_type": "markdown",
   "id": "c97c81bd-414b-4147-abbb-77dd3809e37a",
   "metadata": {},
   "source": [
    "### Remoção de Colunas Irrelevantes"
   ]
  },
  {
   "cell_type": "code",
   "execution_count": 4,
   "id": "6f989651-f805-4e14-9aa9-38fe5730b00f",
   "metadata": {
    "tags": []
   },
   "outputs": [],
   "source": [
    "# Remove a coluna especificada\n",
    "base = base.drop('Visualizações', axis='columns')"
   ]
  },
  {
   "cell_type": "code",
   "execution_count": 5,
   "id": "65a38fc1-edc8-49cc-a6a8-fe93b86f032c",
   "metadata": {
    "tags": []
   },
   "outputs": [
    {
     "data": {
      "text/html": [
       "<div>\n",
       "<style scoped>\n",
       "    .dataframe tbody tr th:only-of-type {\n",
       "        vertical-align: middle;\n",
       "    }\n",
       "\n",
       "    .dataframe tbody tr th {\n",
       "        vertical-align: top;\n",
       "    }\n",
       "\n",
       "    .dataframe thead th {\n",
       "        text-align: right;\n",
       "    }\n",
       "</style>\n",
       "<table border=\"1\" class=\"dataframe\">\n",
       "  <thead>\n",
       "    <tr style=\"text-align: right;\">\n",
       "      <th></th>\n",
       "      <th>Tipo</th>\n",
       "      <th>Data</th>\n",
       "      <th>Curtidas</th>\n",
       "      <th>Comentários</th>\n",
       "      <th>Tags</th>\n",
       "      <th>Pessoas</th>\n",
       "      <th>Campanhas</th>\n",
       "      <th>Carrossel</th>\n",
       "      <th>Interacoes</th>\n",
       "    </tr>\n",
       "  </thead>\n",
       "  <tbody>\n",
       "    <tr>\n",
       "      <th>0</th>\n",
       "      <td>Foto</td>\n",
       "      <td>2021-09-11</td>\n",
       "      <td>2858</td>\n",
       "      <td>16</td>\n",
       "      <td>Loja</td>\n",
       "      <td>N</td>\n",
       "      <td>N</td>\n",
       "      <td>NaN</td>\n",
       "      <td>2874</td>\n",
       "    </tr>\n",
       "    <tr>\n",
       "      <th>1</th>\n",
       "      <td>Foto</td>\n",
       "      <td>2021-09-11</td>\n",
       "      <td>2930</td>\n",
       "      <td>28</td>\n",
       "      <td>Loja/Produtos</td>\n",
       "      <td>N</td>\n",
       "      <td>N</td>\n",
       "      <td>NaN</td>\n",
       "      <td>2958</td>\n",
       "    </tr>\n",
       "    <tr>\n",
       "      <th>2</th>\n",
       "      <td>Foto</td>\n",
       "      <td>2021-09-11</td>\n",
       "      <td>2807</td>\n",
       "      <td>9</td>\n",
       "      <td>Loja</td>\n",
       "      <td>N</td>\n",
       "      <td>N</td>\n",
       "      <td>NaN</td>\n",
       "      <td>2816</td>\n",
       "    </tr>\n",
       "    <tr>\n",
       "      <th>3</th>\n",
       "      <td>Vídeo</td>\n",
       "      <td>2021-09-12</td>\n",
       "      <td>5115</td>\n",
       "      <td>49</td>\n",
       "      <td>Produtos</td>\n",
       "      <td>N</td>\n",
       "      <td>N</td>\n",
       "      <td>NaN</td>\n",
       "      <td>5164</td>\n",
       "    </tr>\n",
       "    <tr>\n",
       "      <th>4</th>\n",
       "      <td>Foto</td>\n",
       "      <td>2021-09-13</td>\n",
       "      <td>4392</td>\n",
       "      <td>45</td>\n",
       "      <td>Produtos</td>\n",
       "      <td>S</td>\n",
       "      <td>N</td>\n",
       "      <td>NaN</td>\n",
       "      <td>4437</td>\n",
       "    </tr>\n",
       "  </tbody>\n",
       "</table>\n",
       "</div>"
      ],
      "text/plain": [
       "    Tipo       Data  Curtidas  Comentários           Tags Pessoas Campanhas  \\\n",
       "0   Foto 2021-09-11      2858           16           Loja       N         N   \n",
       "1   Foto 2021-09-11      2930           28  Loja/Produtos       N         N   \n",
       "2   Foto 2021-09-11      2807            9           Loja       N         N   \n",
       "3  Vídeo 2021-09-12      5115           49       Produtos       N         N   \n",
       "4   Foto 2021-09-13      4392           45       Produtos       S         N   \n",
       "\n",
       "  Carrossel  Interacoes   \n",
       "0       NaN         2874  \n",
       "1       NaN         2958  \n",
       "2       NaN         2816  \n",
       "3       NaN         5164  \n",
       "4       NaN         4437  "
      ]
     },
     "execution_count": 5,
     "metadata": {},
     "output_type": "execute_result"
    }
   ],
   "source": [
    "# Exibe as cinco primeiras linhas\n",
    "base.head()"
   ]
  },
  {
   "cell_type": "code",
   "execution_count": 6,
   "id": "f82ba9ac-83f2-453b-ac85-74e86e7a2111",
   "metadata": {
    "tags": []
   },
   "outputs": [
    {
     "data": {
      "text/html": [
       "<div>\n",
       "<style scoped>\n",
       "    .dataframe tbody tr th:only-of-type {\n",
       "        vertical-align: middle;\n",
       "    }\n",
       "\n",
       "    .dataframe tbody tr th {\n",
       "        vertical-align: top;\n",
       "    }\n",
       "\n",
       "    .dataframe thead th {\n",
       "        text-align: right;\n",
       "    }\n",
       "</style>\n",
       "<table border=\"1\" class=\"dataframe\">\n",
       "  <thead>\n",
       "    <tr style=\"text-align: right;\">\n",
       "      <th></th>\n",
       "      <th>Tipo</th>\n",
       "      <th>Data</th>\n",
       "      <th>Curtidas</th>\n",
       "      <th>Comentários</th>\n",
       "      <th>Tags</th>\n",
       "      <th>Pessoas</th>\n",
       "      <th>Campanhas</th>\n",
       "      <th>Carrossel</th>\n",
       "      <th>Interacoes</th>\n",
       "    </tr>\n",
       "  </thead>\n",
       "  <tbody>\n",
       "    <tr>\n",
       "      <th>47</th>\n",
       "      <td>IGTV</td>\n",
       "      <td>2022-03-12</td>\n",
       "      <td>5489</td>\n",
       "      <td>77</td>\n",
       "      <td>Dicas de como usar/Novos Produtos</td>\n",
       "      <td>S</td>\n",
       "      <td>N</td>\n",
       "      <td>NaN</td>\n",
       "      <td>5566</td>\n",
       "    </tr>\n",
       "    <tr>\n",
       "      <th>48</th>\n",
       "      <td>Foto</td>\n",
       "      <td>2022-03-20</td>\n",
       "      <td>29084</td>\n",
       "      <td>479</td>\n",
       "      <td>Datas comemorativas/Promoções</td>\n",
       "      <td>S</td>\n",
       "      <td>S</td>\n",
       "      <td>NaN</td>\n",
       "      <td>29563</td>\n",
       "    </tr>\n",
       "    <tr>\n",
       "      <th>49</th>\n",
       "      <td>Foto</td>\n",
       "      <td>2022-03-22</td>\n",
       "      <td>9087</td>\n",
       "      <td>106</td>\n",
       "      <td>NaN</td>\n",
       "      <td>S</td>\n",
       "      <td>S</td>\n",
       "      <td>NaN</td>\n",
       "      <td>9193</td>\n",
       "    </tr>\n",
       "    <tr>\n",
       "      <th>50</th>\n",
       "      <td>Foto</td>\n",
       "      <td>2022-03-26</td>\n",
       "      <td>16551</td>\n",
       "      <td>186</td>\n",
       "      <td>NaN</td>\n",
       "      <td>S</td>\n",
       "      <td>N</td>\n",
       "      <td>NaN</td>\n",
       "      <td>16737</td>\n",
       "    </tr>\n",
       "    <tr>\n",
       "      <th>51</th>\n",
       "      <td>IGTV</td>\n",
       "      <td>2022-03-27</td>\n",
       "      <td>4934</td>\n",
       "      <td>65</td>\n",
       "      <td>Dicas de como usar/Produtos</td>\n",
       "      <td>S</td>\n",
       "      <td>N</td>\n",
       "      <td>NaN</td>\n",
       "      <td>4999</td>\n",
       "    </tr>\n",
       "  </tbody>\n",
       "</table>\n",
       "</div>"
      ],
      "text/plain": [
       "    Tipo       Data  Curtidas  Comentários                               Tags  \\\n",
       "47  IGTV 2022-03-12      5489           77  Dicas de como usar/Novos Produtos   \n",
       "48  Foto 2022-03-20     29084          479      Datas comemorativas/Promoções   \n",
       "49  Foto 2022-03-22      9087          106                                NaN   \n",
       "50  Foto 2022-03-26     16551          186                                NaN   \n",
       "51  IGTV 2022-03-27      4934           65        Dicas de como usar/Produtos   \n",
       "\n",
       "   Pessoas Campanhas Carrossel  Interacoes   \n",
       "47       S         N       NaN         5566  \n",
       "48       S         S       NaN        29563  \n",
       "49       S         S       NaN         9193  \n",
       "50       S         N       NaN        16737  \n",
       "51       S         N       NaN         4999  "
      ]
     },
     "execution_count": 6,
     "metadata": {},
     "output_type": "execute_result"
    }
   ],
   "source": [
    "# Exibe as cinco últimas linhas\n",
    "base.tail()"
   ]
  },
  {
   "cell_type": "markdown",
   "id": "f096cd2f-4d50-4b93-bd15-8e8f3bc87258",
   "metadata": {},
   "source": [
    "### Obtendo Informações sobre a Base"
   ]
  },
  {
   "cell_type": "code",
   "execution_count": 7,
   "id": "5b1d87dd-fe9f-40be-90fa-0abb50ac8ab1",
   "metadata": {},
   "outputs": [
    {
     "name": "stdout",
     "output_type": "stream",
     "text": [
      "<class 'pandas.core.frame.DataFrame'>\n",
      "RangeIndex: 52 entries, 0 to 51\n",
      "Data columns (total 9 columns):\n",
      " #   Column       Non-Null Count  Dtype         \n",
      "---  ------       --------------  -----         \n",
      " 0   Tipo         52 non-null     object        \n",
      " 1   Data         52 non-null     datetime64[ns]\n",
      " 2   Curtidas     52 non-null     int64         \n",
      " 3   Comentários  52 non-null     int64         \n",
      " 4   Tags         44 non-null     object        \n",
      " 5   Pessoas      52 non-null     object        \n",
      " 6   Campanhas    52 non-null     object        \n",
      " 7   Carrossel    8 non-null      object        \n",
      " 8   Interacoes   52 non-null     int64         \n",
      "dtypes: datetime64[ns](1), int64(3), object(5)\n",
      "memory usage: 3.8+ KB\n"
     ]
    }
   ],
   "source": [
    "base.info()"
   ]
  },
  {
   "cell_type": "markdown",
   "id": "523e6622-d38b-4b8a-9442-6dac495ba617",
   "metadata": {},
   "source": [
    "**Observações:**\n",
    "\n",
    "- Os tipos de dados de cada coluna estão corretos\n",
    "- A coluna `Tags` possui 8 valores nulos\n",
    "- A coluna `Carrossel` possui 44 valores nulos\n",
    "\n",
    "De acordo com os direcionamentos do cliente, os 8 valores nulos da coluna `Tags` são realmente valores nulos, significando que essas publicações não receberam nenhuma tag.\n",
    "\n",
    "Precisamos entender por que a coluna `Carrossel` está repleta de valores nulos para podermos decidir o que fazer com estes valores."
   ]
  },
  {
   "cell_type": "markdown",
   "id": "027d21b6-2224-4f3a-af3c-6a664f3d153f",
   "metadata": {},
   "source": [
    "### Tratando a Base"
   ]
  },
  {
   "cell_type": "markdown",
   "id": "443de5fe-d447-4052-a5f0-907ff4ab53a3",
   "metadata": {},
   "source": [
    "#### Preenchendo Valores Nulos"
   ]
  },
  {
   "cell_type": "markdown",
   "id": "7fdb9059-963c-41cc-8db2-0dc18705a93e",
   "metadata": {},
   "source": [
    "De acordo com o resumo acima, a coluna `Carrossel` possui somente 8 valores não nulos. Vamos exibir estes valores para poder investigá-los: "
   ]
  },
  {
   "cell_type": "code",
   "execution_count": 8,
   "id": "b5d9e225-e833-4e8b-be8c-bef0c651f672",
   "metadata": {},
   "outputs": [
    {
     "data": {
      "text/html": [
       "<div>\n",
       "<style scoped>\n",
       "    .dataframe tbody tr th:only-of-type {\n",
       "        vertical-align: middle;\n",
       "    }\n",
       "\n",
       "    .dataframe tbody tr th {\n",
       "        vertical-align: top;\n",
       "    }\n",
       "\n",
       "    .dataframe thead th {\n",
       "        text-align: right;\n",
       "    }\n",
       "</style>\n",
       "<table border=\"1\" class=\"dataframe\">\n",
       "  <thead>\n",
       "    <tr style=\"text-align: right;\">\n",
       "      <th></th>\n",
       "      <th>Tipo</th>\n",
       "      <th>Data</th>\n",
       "      <th>Curtidas</th>\n",
       "      <th>Comentários</th>\n",
       "      <th>Tags</th>\n",
       "      <th>Pessoas</th>\n",
       "      <th>Campanhas</th>\n",
       "      <th>Carrossel</th>\n",
       "      <th>Interacoes</th>\n",
       "    </tr>\n",
       "  </thead>\n",
       "  <tbody>\n",
       "    <tr>\n",
       "      <th>5</th>\n",
       "      <td>Foto</td>\n",
       "      <td>2021-09-17</td>\n",
       "      <td>5359</td>\n",
       "      <td>62</td>\n",
       "      <td>Novos Produtos</td>\n",
       "      <td>N</td>\n",
       "      <td>S</td>\n",
       "      <td>S</td>\n",
       "      <td>5421</td>\n",
       "    </tr>\n",
       "    <tr>\n",
       "      <th>8</th>\n",
       "      <td>Foto</td>\n",
       "      <td>2021-09-27</td>\n",
       "      <td>6355</td>\n",
       "      <td>89</td>\n",
       "      <td>Produtos</td>\n",
       "      <td>S</td>\n",
       "      <td>N</td>\n",
       "      <td>S</td>\n",
       "      <td>6444</td>\n",
       "    </tr>\n",
       "    <tr>\n",
       "      <th>12</th>\n",
       "      <td>Foto</td>\n",
       "      <td>2021-10-21</td>\n",
       "      <td>6166</td>\n",
       "      <td>55</td>\n",
       "      <td>Novos Produtos</td>\n",
       "      <td>S</td>\n",
       "      <td>S</td>\n",
       "      <td>S</td>\n",
       "      <td>6221</td>\n",
       "    </tr>\n",
       "    <tr>\n",
       "      <th>21</th>\n",
       "      <td>Foto</td>\n",
       "      <td>2021-12-23</td>\n",
       "      <td>8328</td>\n",
       "      <td>93</td>\n",
       "      <td>Produtos</td>\n",
       "      <td>S</td>\n",
       "      <td>N</td>\n",
       "      <td>S</td>\n",
       "      <td>8421</td>\n",
       "    </tr>\n",
       "    <tr>\n",
       "      <th>25</th>\n",
       "      <td>Foto</td>\n",
       "      <td>2022-01-02</td>\n",
       "      <td>12193</td>\n",
       "      <td>138</td>\n",
       "      <td>Novos Produtos</td>\n",
       "      <td>S</td>\n",
       "      <td>N</td>\n",
       "      <td>S</td>\n",
       "      <td>12331</td>\n",
       "    </tr>\n",
       "    <tr>\n",
       "      <th>26</th>\n",
       "      <td>Foto</td>\n",
       "      <td>2022-01-08</td>\n",
       "      <td>24585</td>\n",
       "      <td>354</td>\n",
       "      <td>Datas comemorativas</td>\n",
       "      <td>S</td>\n",
       "      <td>S</td>\n",
       "      <td>S</td>\n",
       "      <td>24939</td>\n",
       "    </tr>\n",
       "    <tr>\n",
       "      <th>28</th>\n",
       "      <td>Foto</td>\n",
       "      <td>2022-01-15</td>\n",
       "      <td>9936</td>\n",
       "      <td>119</td>\n",
       "      <td>Novos Produtos</td>\n",
       "      <td>S</td>\n",
       "      <td>N</td>\n",
       "      <td>S</td>\n",
       "      <td>10055</td>\n",
       "    </tr>\n",
       "    <tr>\n",
       "      <th>40</th>\n",
       "      <td>Foto</td>\n",
       "      <td>2022-02-21</td>\n",
       "      <td>21621</td>\n",
       "      <td>213</td>\n",
       "      <td>Influenciadores</td>\n",
       "      <td>S</td>\n",
       "      <td>S</td>\n",
       "      <td>S</td>\n",
       "      <td>21834</td>\n",
       "    </tr>\n",
       "  </tbody>\n",
       "</table>\n",
       "</div>"
      ],
      "text/plain": [
       "    Tipo       Data  Curtidas  Comentários                 Tags Pessoas  \\\n",
       "5   Foto 2021-09-17      5359           62       Novos Produtos       N   \n",
       "8   Foto 2021-09-27      6355           89             Produtos       S   \n",
       "12  Foto 2021-10-21      6166           55       Novos Produtos       S   \n",
       "21  Foto 2021-12-23      8328           93             Produtos       S   \n",
       "25  Foto 2022-01-02     12193          138       Novos Produtos       S   \n",
       "26  Foto 2022-01-08     24585          354  Datas comemorativas       S   \n",
       "28  Foto 2022-01-15      9936          119       Novos Produtos       S   \n",
       "40  Foto 2022-02-21     21621          213      Influenciadores       S   \n",
       "\n",
       "   Campanhas Carrossel  Interacoes   \n",
       "5          S         S         5421  \n",
       "8          N         S         6444  \n",
       "12         S         S         6221  \n",
       "21         N         S         8421  \n",
       "25         N         S        12331  \n",
       "26         S         S        24939  \n",
       "28         N         S        10055  \n",
       "40         S         S        21834  "
      ]
     },
     "execution_count": 8,
     "metadata": {},
     "output_type": "execute_result"
    }
   ],
   "source": [
    "# Filtra a base de forma a exibir os registros não nulos da coluna Carrossel\n",
    "base.loc[base['Carrossel'].notnull()]"
   ]
  },
  {
   "cell_type": "code",
   "execution_count": 9,
   "id": "3ab41686-9667-4e65-977b-111721c16699",
   "metadata": {
    "tags": []
   },
   "outputs": [
    {
     "data": {
      "text/html": [
       "<div>\n",
       "<style scoped>\n",
       "    .dataframe tbody tr th:only-of-type {\n",
       "        vertical-align: middle;\n",
       "    }\n",
       "\n",
       "    .dataframe tbody tr th {\n",
       "        vertical-align: top;\n",
       "    }\n",
       "\n",
       "    .dataframe thead th {\n",
       "        text-align: right;\n",
       "    }\n",
       "</style>\n",
       "<table border=\"1\" class=\"dataframe\">\n",
       "  <thead>\n",
       "    <tr style=\"text-align: right;\">\n",
       "      <th></th>\n",
       "      <th>Tipo</th>\n",
       "      <th>Data</th>\n",
       "      <th>Curtidas</th>\n",
       "      <th>Comentários</th>\n",
       "      <th>Tags</th>\n",
       "      <th>Pessoas</th>\n",
       "      <th>Campanhas</th>\n",
       "      <th>Carrossel</th>\n",
       "      <th>Interacoes</th>\n",
       "    </tr>\n",
       "  </thead>\n",
       "  <tbody>\n",
       "    <tr>\n",
       "      <th>0</th>\n",
       "      <td>Foto</td>\n",
       "      <td>2021-09-11</td>\n",
       "      <td>2858</td>\n",
       "      <td>16</td>\n",
       "      <td>Loja</td>\n",
       "      <td>N</td>\n",
       "      <td>N</td>\n",
       "      <td>NaN</td>\n",
       "      <td>2874</td>\n",
       "    </tr>\n",
       "    <tr>\n",
       "      <th>1</th>\n",
       "      <td>Foto</td>\n",
       "      <td>2021-09-11</td>\n",
       "      <td>2930</td>\n",
       "      <td>28</td>\n",
       "      <td>Loja/Produtos</td>\n",
       "      <td>N</td>\n",
       "      <td>N</td>\n",
       "      <td>NaN</td>\n",
       "      <td>2958</td>\n",
       "    </tr>\n",
       "    <tr>\n",
       "      <th>2</th>\n",
       "      <td>Foto</td>\n",
       "      <td>2021-09-11</td>\n",
       "      <td>2807</td>\n",
       "      <td>9</td>\n",
       "      <td>Loja</td>\n",
       "      <td>N</td>\n",
       "      <td>N</td>\n",
       "      <td>NaN</td>\n",
       "      <td>2816</td>\n",
       "    </tr>\n",
       "    <tr>\n",
       "      <th>3</th>\n",
       "      <td>Vídeo</td>\n",
       "      <td>2021-09-12</td>\n",
       "      <td>5115</td>\n",
       "      <td>49</td>\n",
       "      <td>Produtos</td>\n",
       "      <td>N</td>\n",
       "      <td>N</td>\n",
       "      <td>NaN</td>\n",
       "      <td>5164</td>\n",
       "    </tr>\n",
       "    <tr>\n",
       "      <th>4</th>\n",
       "      <td>Foto</td>\n",
       "      <td>2021-09-13</td>\n",
       "      <td>4392</td>\n",
       "      <td>45</td>\n",
       "      <td>Produtos</td>\n",
       "      <td>S</td>\n",
       "      <td>N</td>\n",
       "      <td>NaN</td>\n",
       "      <td>4437</td>\n",
       "    </tr>\n",
       "  </tbody>\n",
       "</table>\n",
       "</div>"
      ],
      "text/plain": [
       "    Tipo       Data  Curtidas  Comentários           Tags Pessoas Campanhas  \\\n",
       "0   Foto 2021-09-11      2858           16           Loja       N         N   \n",
       "1   Foto 2021-09-11      2930           28  Loja/Produtos       N         N   \n",
       "2   Foto 2021-09-11      2807            9           Loja       N         N   \n",
       "3  Vídeo 2021-09-12      5115           49       Produtos       N         N   \n",
       "4   Foto 2021-09-13      4392           45       Produtos       S         N   \n",
       "\n",
       "  Carrossel  Interacoes   \n",
       "0       NaN         2874  \n",
       "1       NaN         2958  \n",
       "2       NaN         2816  \n",
       "3       NaN         5164  \n",
       "4       NaN         4437  "
      ]
     },
     "execution_count": 9,
     "metadata": {},
     "output_type": "execute_result"
    }
   ],
   "source": [
    "# Filtra a base de forma a exibir somente os registros nulos da coluna Carrossel\n",
    "# Exibe somente as cinco primeiras linhas\n",
    "base.loc[base['Carrossel'].isnull()].head()"
   ]
  },
  {
   "cell_type": "markdown",
   "id": "186b8520-1f2b-49e4-95c8-3fb8814422ff",
   "metadata": {},
   "source": [
    "**Observações:**\n",
    "\n",
    "As publicações que eram um carrossel foram registradas com um **S**, representando um **Sim**. Portanto, as demais publicações que não eram um carrossel deveriam ter sido registradas com um **N**, representando um **Não**. Vamos corrigir isso: "
   ]
  },
  {
   "cell_type": "code",
   "execution_count": 10,
   "id": "439f81a7-8843-49b0-a9d7-74aae403365b",
   "metadata": {},
   "outputs": [],
   "source": [
    "# Atribui o valor N aos registros nulos da coluna Carrossel\n",
    "base.loc[base['Carrossel'].isnull(), 'Carrossel'] = 'N'"
   ]
  },
  {
   "cell_type": "code",
   "execution_count": 11,
   "id": "21c19ff6-710d-4232-a9d6-6a633a621ae6",
   "metadata": {
    "tags": []
   },
   "outputs": [
    {
     "data": {
      "text/html": [
       "<div>\n",
       "<style scoped>\n",
       "    .dataframe tbody tr th:only-of-type {\n",
       "        vertical-align: middle;\n",
       "    }\n",
       "\n",
       "    .dataframe tbody tr th {\n",
       "        vertical-align: top;\n",
       "    }\n",
       "\n",
       "    .dataframe thead th {\n",
       "        text-align: right;\n",
       "    }\n",
       "</style>\n",
       "<table border=\"1\" class=\"dataframe\">\n",
       "  <thead>\n",
       "    <tr style=\"text-align: right;\">\n",
       "      <th></th>\n",
       "      <th>Tipo</th>\n",
       "      <th>Data</th>\n",
       "      <th>Curtidas</th>\n",
       "      <th>Comentários</th>\n",
       "      <th>Tags</th>\n",
       "      <th>Pessoas</th>\n",
       "      <th>Campanhas</th>\n",
       "      <th>Carrossel</th>\n",
       "      <th>Interacoes</th>\n",
       "    </tr>\n",
       "  </thead>\n",
       "  <tbody>\n",
       "    <tr>\n",
       "      <th>0</th>\n",
       "      <td>Foto</td>\n",
       "      <td>2021-09-11</td>\n",
       "      <td>2858</td>\n",
       "      <td>16</td>\n",
       "      <td>Loja</td>\n",
       "      <td>N</td>\n",
       "      <td>N</td>\n",
       "      <td>N</td>\n",
       "      <td>2874</td>\n",
       "    </tr>\n",
       "    <tr>\n",
       "      <th>1</th>\n",
       "      <td>Foto</td>\n",
       "      <td>2021-09-11</td>\n",
       "      <td>2930</td>\n",
       "      <td>28</td>\n",
       "      <td>Loja/Produtos</td>\n",
       "      <td>N</td>\n",
       "      <td>N</td>\n",
       "      <td>N</td>\n",
       "      <td>2958</td>\n",
       "    </tr>\n",
       "    <tr>\n",
       "      <th>2</th>\n",
       "      <td>Foto</td>\n",
       "      <td>2021-09-11</td>\n",
       "      <td>2807</td>\n",
       "      <td>9</td>\n",
       "      <td>Loja</td>\n",
       "      <td>N</td>\n",
       "      <td>N</td>\n",
       "      <td>N</td>\n",
       "      <td>2816</td>\n",
       "    </tr>\n",
       "    <tr>\n",
       "      <th>3</th>\n",
       "      <td>Vídeo</td>\n",
       "      <td>2021-09-12</td>\n",
       "      <td>5115</td>\n",
       "      <td>49</td>\n",
       "      <td>Produtos</td>\n",
       "      <td>N</td>\n",
       "      <td>N</td>\n",
       "      <td>N</td>\n",
       "      <td>5164</td>\n",
       "    </tr>\n",
       "    <tr>\n",
       "      <th>4</th>\n",
       "      <td>Foto</td>\n",
       "      <td>2021-09-13</td>\n",
       "      <td>4392</td>\n",
       "      <td>45</td>\n",
       "      <td>Produtos</td>\n",
       "      <td>S</td>\n",
       "      <td>N</td>\n",
       "      <td>N</td>\n",
       "      <td>4437</td>\n",
       "    </tr>\n",
       "  </tbody>\n",
       "</table>\n",
       "</div>"
      ],
      "text/plain": [
       "    Tipo       Data  Curtidas  Comentários           Tags Pessoas Campanhas  \\\n",
       "0   Foto 2021-09-11      2858           16           Loja       N         N   \n",
       "1   Foto 2021-09-11      2930           28  Loja/Produtos       N         N   \n",
       "2   Foto 2021-09-11      2807            9           Loja       N         N   \n",
       "3  Vídeo 2021-09-12      5115           49       Produtos       N         N   \n",
       "4   Foto 2021-09-13      4392           45       Produtos       S         N   \n",
       "\n",
       "  Carrossel  Interacoes   \n",
       "0         N         2874  \n",
       "1         N         2958  \n",
       "2         N         2816  \n",
       "3         N         5164  \n",
       "4         N         4437  "
      ]
     },
     "execution_count": 11,
     "metadata": {},
     "output_type": "execute_result"
    }
   ],
   "source": [
    "# Exibe as cinco primeiras linhas da base\n",
    "base.head()"
   ]
  },
  {
   "cell_type": "code",
   "execution_count": 12,
   "id": "99371fa7-ae04-46fa-a056-6b67489e664e",
   "metadata": {
    "tags": []
   },
   "outputs": [
    {
     "data": {
      "text/plain": [
       "N    44\n",
       "S     8\n",
       "Name: Carrossel, dtype: int64"
      ]
     },
     "execution_count": 12,
     "metadata": {},
     "output_type": "execute_result"
    }
   ],
   "source": [
    "base['Carrossel'].value_counts()"
   ]
  },
  {
   "cell_type": "markdown",
   "id": "ae025d85-5e3b-4314-a3b6-5fb1b2f5f283",
   "metadata": {},
   "source": [
    "**Observações:**\n",
    "\n",
    "Notamos que agora a coluna `Carrossel` possui 8 valores 'S' e 44 valores 'N'."
   ]
  },
  {
   "cell_type": "markdown",
   "id": "1f0ec6ad-85eb-42f1-822b-519f64fd98b4",
   "metadata": {},
   "source": [
    "### Descrição Estatística da Base"
   ]
  },
  {
   "cell_type": "code",
   "execution_count": 13,
   "id": "8a1da15e-c4b7-42a3-8431-8eec12377f33",
   "metadata": {
    "tags": []
   },
   "outputs": [
    {
     "data": {
      "text/plain": [
       "count       52.000000\n",
       "mean     12262.730769\n",
       "std       8165.875326\n",
       "min       2807.000000\n",
       "25%       5492.000000\n",
       "50%       9603.000000\n",
       "75%      17621.750000\n",
       "max      37351.000000\n",
       "Name: Curtidas, dtype: float64"
      ]
     },
     "execution_count": 13,
     "metadata": {},
     "output_type": "execute_result"
    }
   ],
   "source": [
    "# Exibe uma descrição estatística da coluna de Curtidas\n",
    "base['Curtidas'].describe()"
   ]
  },
  {
   "cell_type": "markdown",
   "id": "ccef1dc5-2a0e-40f2-9967-6005a5b33549",
   "metadata": {},
   "source": [
    "**Obervações:**\n",
    "\n",
    "- A média de curtidas das publicações foi de 12.262\n",
    "- 50% das publicações têm até 9.603 curtidas\n",
    "- A publicação com maior número de curtidas recebeu 37.351 curtidas\n",
    "- A publicação com menor número de curtidas recebeu 2.807 curtidas"
   ]
  },
  {
   "cell_type": "code",
   "execution_count": 14,
   "id": "7d080b1a-2d60-4b53-81d8-7aad56f76df0",
   "metadata": {
    "tags": []
   },
   "outputs": [
    {
     "data": {
      "text/plain": [
       "count     52.000000\n",
       "mean     189.500000\n",
       "std      170.687709\n",
       "min        9.000000\n",
       "25%       69.500000\n",
       "50%      128.000000\n",
       "75%      265.250000\n",
       "max      852.000000\n",
       "Name: Comentários, dtype: float64"
      ]
     },
     "execution_count": 14,
     "metadata": {},
     "output_type": "execute_result"
    }
   ],
   "source": [
    "base['Comentários'].describe()"
   ]
  },
  {
   "cell_type": "markdown",
   "id": "198ac8a0-7d03-4de8-acf0-e9100ea51665",
   "metadata": {},
   "source": [
    "**Obervações:**\n",
    "\n",
    "- A média de comentários das publicações foi de cerca de 200 comentários\n",
    "- 50% das publicações têm até 128 curtidas\n",
    "- A publicação com maior número de comentários recebeu 852 comentários\n",
    "- A publicação com menor número de comentários recebeu 9 comentários"
   ]
  },
  {
   "cell_type": "markdown",
   "id": "1e453866-bda7-4dc8-b56b-0436dc79a8e4",
   "metadata": {},
   "source": [
    "### Visualizando Informações"
   ]
  },
  {
   "cell_type": "code",
   "execution_count": 15,
   "id": "a7d53e73-4c59-48f5-9b11-6b2db7fa3073",
   "metadata": {},
   "outputs": [
    {
     "data": {
      "image/png": "[encoded data removed]",
      "text/plain": [
       "<Figure size 1400x400 with 1 Axes>"
      ]
     },
     "metadata": {},
     "output_type": "display_data"
    },
    {
     "data": {
      "image/png": "[encoded data removed]",
      "text/plain": [
       "<Figure size 1400x400 with 1 Axes>"
      ]
     },
     "metadata": {},
     "output_type": "display_data"
    }
   ],
   "source": [
    "# Define um estilo para os gráficos do matplotlib\n",
    "plt.style.use('seaborn-v0_8')\n",
    "\n",
    "# Plota um gráfico de dispersão para verificarmos uma possível correlação entre o número de curtidas e a data da publicação\n",
    "base.plot(kind='scatter', x='Data', y='Curtidas', color='blue', label='Curtidas', figsize=(14,4))\n",
    "\n",
    "# Plota um gráfico de dispersão para verificarmos uma possível correlação entre o número de comentários e a data da publicação\n",
    "base.plot(kind='scatter', x='Data', y='Comentários', color='red', label='Comentários', figsize=(14,4))\n",
    "\n",
    "# Exibe os gráficos\n",
    "plt.show()"
   ]
  },
  {
   "cell_type": "markdown",
   "id": "ad8bb3a2-e065-43c9-8c4b-d1566b6ad5e4",
   "metadata": {},
   "source": [
    "**Observações:**\n",
    "\n",
    "Parece não haver uma correlação entre o número de curtidas e o número de comentários das publicações com a data em que elas foram feitas. "
   ]
  },
  {
   "cell_type": "markdown",
   "id": "ac06e628-f399-44b2-96b7-86333cd1bc34",
   "metadata": {},
   "source": [
    "### Ordenando a Base"
   ]
  },
  {
   "cell_type": "markdown",
   "id": "2ee98c16-3cfd-4ed5-b1df-85bf0dd66e5c",
   "metadata": {},
   "source": [
    "#### As 5 Melhores Publicações"
   ]
  },
  {
   "cell_type": "code",
   "execution_count": 16,
   "id": "3d13a33d-1b28-479d-8946-812d65df6a1b",
   "metadata": {},
   "outputs": [
    {
     "data": {
      "text/html": [
       "<div>\n",
       "<style scoped>\n",
       "    .dataframe tbody tr th:only-of-type {\n",
       "        vertical-align: middle;\n",
       "    }\n",
       "\n",
       "    .dataframe tbody tr th {\n",
       "        vertical-align: top;\n",
       "    }\n",
       "\n",
       "    .dataframe thead th {\n",
       "        text-align: right;\n",
       "    }\n",
       "</style>\n",
       "<table border=\"1\" class=\"dataframe\">\n",
       "  <thead>\n",
       "    <tr style=\"text-align: right;\">\n",
       "      <th></th>\n",
       "      <th>Tipo</th>\n",
       "      <th>Data</th>\n",
       "      <th>Curtidas</th>\n",
       "      <th>Comentários</th>\n",
       "      <th>Tags</th>\n",
       "      <th>Pessoas</th>\n",
       "      <th>Campanhas</th>\n",
       "      <th>Carrossel</th>\n",
       "      <th>Interacoes</th>\n",
       "    </tr>\n",
       "  </thead>\n",
       "  <tbody>\n",
       "    <tr>\n",
       "      <th>39</th>\n",
       "      <td>Foto</td>\n",
       "      <td>2022-02-17</td>\n",
       "      <td>37351</td>\n",
       "      <td>502</td>\n",
       "      <td>Promoções</td>\n",
       "      <td>S</td>\n",
       "      <td>S</td>\n",
       "      <td>N</td>\n",
       "      <td>37853</td>\n",
       "    </tr>\n",
       "    <tr>\n",
       "      <th>30</th>\n",
       "      <td>Reels</td>\n",
       "      <td>2022-01-24</td>\n",
       "      <td>29981</td>\n",
       "      <td>502</td>\n",
       "      <td>Trends</td>\n",
       "      <td>S</td>\n",
       "      <td>S</td>\n",
       "      <td>N</td>\n",
       "      <td>30483</td>\n",
       "    </tr>\n",
       "    <tr>\n",
       "      <th>48</th>\n",
       "      <td>Foto</td>\n",
       "      <td>2022-03-20</td>\n",
       "      <td>29084</td>\n",
       "      <td>479</td>\n",
       "      <td>Datas comemorativas/Promoções</td>\n",
       "      <td>S</td>\n",
       "      <td>S</td>\n",
       "      <td>N</td>\n",
       "      <td>29563</td>\n",
       "    </tr>\n",
       "    <tr>\n",
       "      <th>33</th>\n",
       "      <td>Foto</td>\n",
       "      <td>2022-02-06</td>\n",
       "      <td>24655</td>\n",
       "      <td>186</td>\n",
       "      <td>Influenciadores</td>\n",
       "      <td>S</td>\n",
       "      <td>S</td>\n",
       "      <td>N</td>\n",
       "      <td>24841</td>\n",
       "    </tr>\n",
       "    <tr>\n",
       "      <th>26</th>\n",
       "      <td>Foto</td>\n",
       "      <td>2022-01-08</td>\n",
       "      <td>24585</td>\n",
       "      <td>354</td>\n",
       "      <td>Datas comemorativas</td>\n",
       "      <td>S</td>\n",
       "      <td>S</td>\n",
       "      <td>S</td>\n",
       "      <td>24939</td>\n",
       "    </tr>\n",
       "  </tbody>\n",
       "</table>\n",
       "</div>"
      ],
      "text/plain": [
       "     Tipo       Data  Curtidas  Comentários                           Tags  \\\n",
       "39   Foto 2022-02-17     37351          502                      Promoções   \n",
       "30  Reels 2022-01-24     29981          502                         Trends   \n",
       "48   Foto 2022-03-20     29084          479  Datas comemorativas/Promoções   \n",
       "33   Foto 2022-02-06     24655          186                Influenciadores   \n",
       "26   Foto 2022-01-08     24585          354            Datas comemorativas   \n",
       "\n",
       "   Pessoas Campanhas Carrossel  Interacoes   \n",
       "39       S         S         N        37853  \n",
       "30       S         S         N        30483  \n",
       "48       S         S         N        29563  \n",
       "33       S         S         N        24841  \n",
       "26       S         S         S        24939  "
      ]
     },
     "execution_count": 16,
     "metadata": {},
     "output_type": "execute_result"
    }
   ],
   "source": [
    "# Exibe os registros das cinco publicações que mais tiveram curtidas\n",
    "base.sort_values(by='Curtidas', ascending=False).head()"
   ]
  },
  {
   "cell_type": "markdown",
   "id": "fc3f17e5-eb30-4bf5-bdaa-07417bf1216e",
   "metadata": {},
   "source": [
    "#### As 5 Piores Publicações"
   ]
  },
  {
   "cell_type": "code",
   "execution_count": 17,
   "id": "3b748306-1259-4ad2-a804-3b1b5c136128",
   "metadata": {
    "tags": []
   },
   "outputs": [
    {
     "data": {
      "text/html": [
       "<div>\n",
       "<style scoped>\n",
       "    .dataframe tbody tr th:only-of-type {\n",
       "        vertical-align: middle;\n",
       "    }\n",
       "\n",
       "    .dataframe tbody tr th {\n",
       "        vertical-align: top;\n",
       "    }\n",
       "\n",
       "    .dataframe thead th {\n",
       "        text-align: right;\n",
       "    }\n",
       "</style>\n",
       "<table border=\"1\" class=\"dataframe\">\n",
       "  <thead>\n",
       "    <tr style=\"text-align: right;\">\n",
       "      <th></th>\n",
       "      <th>Tipo</th>\n",
       "      <th>Data</th>\n",
       "      <th>Curtidas</th>\n",
       "      <th>Comentários</th>\n",
       "      <th>Tags</th>\n",
       "      <th>Pessoas</th>\n",
       "      <th>Campanhas</th>\n",
       "      <th>Carrossel</th>\n",
       "      <th>Interacoes</th>\n",
       "    </tr>\n",
       "  </thead>\n",
       "  <tbody>\n",
       "    <tr>\n",
       "      <th>17</th>\n",
       "      <td>Vídeo</td>\n",
       "      <td>2021-11-09</td>\n",
       "      <td>3213</td>\n",
       "      <td>60</td>\n",
       "      <td>Produtos</td>\n",
       "      <td>N</td>\n",
       "      <td>N</td>\n",
       "      <td>N</td>\n",
       "      <td>3273</td>\n",
       "    </tr>\n",
       "    <tr>\n",
       "      <th>1</th>\n",
       "      <td>Foto</td>\n",
       "      <td>2021-09-11</td>\n",
       "      <td>2930</td>\n",
       "      <td>28</td>\n",
       "      <td>Loja/Produtos</td>\n",
       "      <td>N</td>\n",
       "      <td>N</td>\n",
       "      <td>N</td>\n",
       "      <td>2958</td>\n",
       "    </tr>\n",
       "    <tr>\n",
       "      <th>20</th>\n",
       "      <td>Foto</td>\n",
       "      <td>2021-12-16</td>\n",
       "      <td>2881</td>\n",
       "      <td>29</td>\n",
       "      <td>Produtos</td>\n",
       "      <td>N</td>\n",
       "      <td>N</td>\n",
       "      <td>N</td>\n",
       "      <td>2910</td>\n",
       "    </tr>\n",
       "    <tr>\n",
       "      <th>0</th>\n",
       "      <td>Foto</td>\n",
       "      <td>2021-09-11</td>\n",
       "      <td>2858</td>\n",
       "      <td>16</td>\n",
       "      <td>Loja</td>\n",
       "      <td>N</td>\n",
       "      <td>N</td>\n",
       "      <td>N</td>\n",
       "      <td>2874</td>\n",
       "    </tr>\n",
       "    <tr>\n",
       "      <th>2</th>\n",
       "      <td>Foto</td>\n",
       "      <td>2021-09-11</td>\n",
       "      <td>2807</td>\n",
       "      <td>9</td>\n",
       "      <td>Loja</td>\n",
       "      <td>N</td>\n",
       "      <td>N</td>\n",
       "      <td>N</td>\n",
       "      <td>2816</td>\n",
       "    </tr>\n",
       "  </tbody>\n",
       "</table>\n",
       "</div>"
      ],
      "text/plain": [
       "     Tipo       Data  Curtidas  Comentários           Tags Pessoas Campanhas  \\\n",
       "17  Vídeo 2021-11-09      3213           60       Produtos       N         N   \n",
       "1    Foto 2021-09-11      2930           28  Loja/Produtos       N         N   \n",
       "20   Foto 2021-12-16      2881           29       Produtos       N         N   \n",
       "0    Foto 2021-09-11      2858           16           Loja       N         N   \n",
       "2    Foto 2021-09-11      2807            9           Loja       N         N   \n",
       "\n",
       "   Carrossel  Interacoes   \n",
       "17         N         3273  \n",
       "1          N         2958  \n",
       "20         N         2910  \n",
       "0          N         2874  \n",
       "2          N         2816  "
      ]
     },
     "execution_count": 17,
     "metadata": {},
     "output_type": "execute_result"
    }
   ],
   "source": [
    "# Exibe os registros das cinco publicações que menos tiveram curtidas\n",
    "base.sort_values(by='Curtidas', ascending=False).tail()"
   ]
  },
  {
   "cell_type": "markdown",
   "id": "cbb8a825-a7f0-4543-a390-5fc5a12202be",
   "metadata": {},
   "source": [
    "**Observações:**\n",
    "\n",
    "- Dentre as cinco publicações que mais obtiveram curtidas, todas tinham a presença de pessoas e envolviam alguma campanha\n",
    "- Dentre as cinco publicações que menos obtiveram curtidas, nenhuma tinha a presença de pessoas e nenhuma envolvia alguma campanha"
   ]
  },
  {
   "cell_type": "markdown",
   "id": "03ab1a32-831c-407e-a50e-5e78d659d9af",
   "metadata": {},
   "source": [
    "### Agregando Informações"
   ]
  },
  {
   "cell_type": "code",
   "execution_count": 19,
   "id": "4341ceba-69c5-4e7b-a377-d1fb34190062",
   "metadata": {},
   "outputs": [],
   "source": [
    "# Configura a exibição de números decimais no pandas\n",
    "pd.options.display.float_format = '{:,.2f}'.format"
   ]
  },
  {
   "cell_type": "markdown",
   "id": "7d848a88-e6aa-4efd-94bc-65eed2b18176",
   "metadata": {},
   "source": [
    "#### Segmentação por Pessoas"
   ]
  },
  {
   "cell_type": "code",
   "execution_count": 20,
   "id": "2680eafa-23d4-47fa-8fbd-addb4957a459",
   "metadata": {
    "tags": []
   },
   "outputs": [
    {
     "data": {
      "text/html": [
       "<div>\n",
       "<style scoped>\n",
       "    .dataframe tbody tr th:only-of-type {\n",
       "        vertical-align: middle;\n",
       "    }\n",
       "\n",
       "    .dataframe tbody tr th {\n",
       "        vertical-align: top;\n",
       "    }\n",
       "\n",
       "    .dataframe thead th {\n",
       "        text-align: right;\n",
       "    }\n",
       "</style>\n",
       "<table border=\"1\" class=\"dataframe\">\n",
       "  <thead>\n",
       "    <tr style=\"text-align: right;\">\n",
       "      <th></th>\n",
       "      <th>Curtidas</th>\n",
       "      <th>Comentários</th>\n",
       "    </tr>\n",
       "    <tr>\n",
       "      <th>Pessoas</th>\n",
       "      <th></th>\n",
       "      <th></th>\n",
       "    </tr>\n",
       "  </thead>\n",
       "  <tbody>\n",
       "    <tr>\n",
       "      <th>N</th>\n",
       "      <td>4,256.67</td>\n",
       "      <td>52.83</td>\n",
       "    </tr>\n",
       "    <tr>\n",
       "      <th>S</th>\n",
       "      <td>14,664.55</td>\n",
       "      <td>230.50</td>\n",
       "    </tr>\n",
       "  </tbody>\n",
       "</table>\n",
       "</div>"
      ],
      "text/plain": [
       "         Curtidas  Comentários\n",
       "Pessoas                       \n",
       "N        4,256.67        52.83\n",
       "S       14,664.55       230.50"
      ]
     },
     "execution_count": 20,
     "metadata": {},
     "output_type": "execute_result"
    }
   ],
   "source": [
    "# Agrupa os dados com base na coluna de Pessoas, calculando a média de curtidas e de comentários\n",
    "base.groupby('Pessoas')[['Curtidas', 'Comentários']].mean()"
   ]
  },
  {
   "cell_type": "markdown",
   "id": "51368077-ef73-4e9a-bc7b-d48555b8624c",
   "metadata": {},
   "source": [
    "**Observação:**\n",
    "\n",
    "Para este perfil, a média curtidas para publicações que têm pessoas é de cerca de 14.700 curtidas, enquanto que a média para publicações sem pessoa é de cerca de 4.300 curtidas. Com isso, percebemos que a média de curtidas de publicações com pessoas é cerca de 3,44 vezes a média de curtidas de publicações sem pessoas.  \n",
    "Além disso, notamos que a média de comentários de publicações com pessoas é cerca de 4,4 vezes a média de comentários de publicações sem pessoas."
   ]
  },
  {
   "cell_type": "markdown",
   "id": "8f002d3a-05ba-47a6-baab-387bf7ed6848",
   "metadata": {},
   "source": [
    "#### Segmentação por Pessoas e Campanhas"
   ]
  },
  {
   "cell_type": "code",
   "execution_count": 21,
   "id": "da7fd806-78ea-453e-a1ad-73eaa98d853c",
   "metadata": {},
   "outputs": [
    {
     "data": {
      "text/html": [
       "<div>\n",
       "<style scoped>\n",
       "    .dataframe tbody tr th:only-of-type {\n",
       "        vertical-align: middle;\n",
       "    }\n",
       "\n",
       "    .dataframe tbody tr th {\n",
       "        vertical-align: top;\n",
       "    }\n",
       "\n",
       "    .dataframe thead th {\n",
       "        text-align: right;\n",
       "    }\n",
       "</style>\n",
       "<table border=\"1\" class=\"dataframe\">\n",
       "  <thead>\n",
       "    <tr style=\"text-align: right;\">\n",
       "      <th></th>\n",
       "      <th></th>\n",
       "      <th>Curtidas</th>\n",
       "      <th>Comentários</th>\n",
       "    </tr>\n",
       "    <tr>\n",
       "      <th>Pessoas</th>\n",
       "      <th>Campanhas</th>\n",
       "      <th></th>\n",
       "      <th></th>\n",
       "    </tr>\n",
       "  </thead>\n",
       "  <tbody>\n",
       "    <tr>\n",
       "      <th rowspan=\"2\" valign=\"top\">N</th>\n",
       "      <th>N</th>\n",
       "      <td>3,937.50</td>\n",
       "      <td>53.90</td>\n",
       "    </tr>\n",
       "    <tr>\n",
       "      <th>S</th>\n",
       "      <td>5,852.50</td>\n",
       "      <td>47.50</td>\n",
       "    </tr>\n",
       "    <tr>\n",
       "      <th rowspan=\"2\" valign=\"top\">S</th>\n",
       "      <th>N</th>\n",
       "      <td>9,923.75</td>\n",
       "      <td>157.80</td>\n",
       "    </tr>\n",
       "    <tr>\n",
       "      <th>S</th>\n",
       "      <td>19,405.35</td>\n",
       "      <td>303.20</td>\n",
       "    </tr>\n",
       "  </tbody>\n",
       "</table>\n",
       "</div>"
      ],
      "text/plain": [
       "                   Curtidas  Comentários\n",
       "Pessoas Campanhas                       \n",
       "N       N          3,937.50        53.90\n",
       "        S          5,852.50        47.50\n",
       "S       N          9,923.75       157.80\n",
       "        S         19,405.35       303.20"
      ]
     },
     "execution_count": 21,
     "metadata": {},
     "output_type": "execute_result"
    }
   ],
   "source": [
    "# Agrupa os dados com base nas colunas Pessoas e Campanhas, calculando a média de curtidas e de comentários\n",
    "base.groupby(['Pessoas', 'Campanhas'])[['Curtidas','Comentários']].mean()"
   ]
  },
  {
   "cell_type": "markdown",
   "id": "2e3331e8-af86-48af-b171-e7a650d0635f",
   "metadata": {},
   "source": [
    "**Observações:**\n",
    "\n",
    "- Publicações com pessoas e com campanhas apresentam uma média de 19,4 mil curtidas\n",
    "- Publicações com pessoas e sem campanhas têm uma média de quase 10 mil curtidas\n",
    "- Se a publicação não tiver pessoas, sua média de curtidas será de, no máximo, 5,9 mil curtidas\n",
    "\n",
    "Para este perfil, é evidente que a presença de pessoas em suas publicações gera um maior engajamento. Logo, a empresa deve publicar mais conteúdo que envolva pessoas."
   ]
  },
  {
   "cell_type": "markdown",
   "id": "a38a34c3-aa9e-44b8-871d-6d31debc8c77",
   "metadata": {},
   "source": [
    "#### Segmentação por Pessoas, Campanhas e Tipo"
   ]
  },
  {
   "cell_type": "code",
   "execution_count": 25,
   "id": "d7c7822f-61ce-41f9-afd3-d81638508c8b",
   "metadata": {},
   "outputs": [
    {
     "data": {
      "text/html": [
       "<div>\n",
       "<style scoped>\n",
       "    .dataframe tbody tr th:only-of-type {\n",
       "        vertical-align: middle;\n",
       "    }\n",
       "\n",
       "    .dataframe tbody tr th {\n",
       "        vertical-align: top;\n",
       "    }\n",
       "\n",
       "    .dataframe thead th {\n",
       "        text-align: right;\n",
       "    }\n",
       "</style>\n",
       "<table border=\"1\" class=\"dataframe\">\n",
       "  <thead>\n",
       "    <tr style=\"text-align: right;\">\n",
       "      <th></th>\n",
       "      <th></th>\n",
       "      <th></th>\n",
       "      <th>Curtidas</th>\n",
       "    </tr>\n",
       "    <tr>\n",
       "      <th>Pessoas</th>\n",
       "      <th>Campanhas</th>\n",
       "      <th>Tipo</th>\n",
       "      <th></th>\n",
       "    </tr>\n",
       "  </thead>\n",
       "  <tbody>\n",
       "    <tr>\n",
       "      <th rowspan=\"4\" valign=\"top\">N</th>\n",
       "      <th rowspan=\"3\" valign=\"top\">N</th>\n",
       "      <th>Foto</th>\n",
       "      <td>2,869.00</td>\n",
       "    </tr>\n",
       "    <tr>\n",
       "      <th>Reels</th>\n",
       "      <td>5,934.50</td>\n",
       "    </tr>\n",
       "    <tr>\n",
       "      <th>Vídeo</th>\n",
       "      <td>4,007.50</td>\n",
       "    </tr>\n",
       "    <tr>\n",
       "      <th>S</th>\n",
       "      <th>Foto</th>\n",
       "      <td>5,852.50</td>\n",
       "    </tr>\n",
       "    <tr>\n",
       "      <th rowspan=\"6\" valign=\"top\">S</th>\n",
       "      <th rowspan=\"3\" valign=\"top\">N</th>\n",
       "      <th>Foto</th>\n",
       "      <td>10,815.29</td>\n",
       "    </tr>\n",
       "    <tr>\n",
       "      <th>IGTV</th>\n",
       "      <td>6,833.40</td>\n",
       "    </tr>\n",
       "    <tr>\n",
       "      <th>Reels</th>\n",
       "      <td>12,894.00</td>\n",
       "    </tr>\n",
       "    <tr>\n",
       "      <th rowspan=\"3\" valign=\"top\">S</th>\n",
       "      <th>Foto</th>\n",
       "      <td>19,105.38</td>\n",
       "    </tr>\n",
       "    <tr>\n",
       "      <th>Reels</th>\n",
       "      <td>24,801.00</td>\n",
       "    </tr>\n",
       "    <tr>\n",
       "      <th>Vídeo</th>\n",
       "      <td>16,409.50</td>\n",
       "    </tr>\n",
       "  </tbody>\n",
       "</table>\n",
       "</div>"
      ],
      "text/plain": [
       "                         Curtidas\n",
       "Pessoas Campanhas Tipo           \n",
       "N       N         Foto   2,869.00\n",
       "                  Reels  5,934.50\n",
       "                  Vídeo  4,007.50\n",
       "        S         Foto   5,852.50\n",
       "S       N         Foto  10,815.29\n",
       "                  IGTV   6,833.40\n",
       "                  Reels 12,894.00\n",
       "        S         Foto  19,105.38\n",
       "                  Reels 24,801.00\n",
       "                  Vídeo 16,409.50"
      ]
     },
     "execution_count": 25,
     "metadata": {},
     "output_type": "execute_result"
    }
   ],
   "source": [
    "base.groupby(['Pessoas', 'Campanhas', 'Tipo'])[['Curtidas']].mean()"
   ]
  },
  {
   "cell_type": "markdown",
   "id": "bafbda38-263a-41ec-8a2e-663d34a0e89c",
   "metadata": {},
   "source": [
    "**Observações:**\n",
    "\n",
    "A média de curtidas para todos os tipos de publicações que envolviam pessoas ficou acima de 10 mil, exceto para o IGTV. Já as publicações que não envolviam pessoas tiveram uma média de curtidas abaixo de 6 mil."
   ]
  },
  {
   "cell_type": "markdown",
   "id": "bc8ca5ff-0bfe-419b-a4c9-f822bf2937b7",
   "metadata": {},
   "source": [
    "**Observações:**\n",
    "\n",
    "O perfil só publicou dois vídeos com pessoas e campanhas. Os demais vídeos não tinham pessoas e não eram vídeos de campanhas. Estes últimos apresentaram baixo desempenho.\n",
    "\n",
    "Para obtermos mais insights, a empresa poderia fazer um experimento no qual ela publicaria vídeos com pessoas e sem envolver nenhuma campanha e vídeos sem pessoas mas envolvendo uma campanha. "
   ]
  },
  {
   "cell_type": "markdown",
   "id": "b5b224ea-4ad1-4ad9-8584-abc6e7a46e69",
   "metadata": {},
   "source": [
    "#### Segmentação por Carrossel"
   ]
  },
  {
   "cell_type": "code",
   "execution_count": 31,
   "id": "77a0c968-addb-45eb-88cd-27f78bf26f48",
   "metadata": {},
   "outputs": [
    {
     "data": {
      "text/html": [
       "<div>\n",
       "<style scoped>\n",
       "    .dataframe tbody tr th:only-of-type {\n",
       "        vertical-align: middle;\n",
       "    }\n",
       "\n",
       "    .dataframe tbody tr th {\n",
       "        vertical-align: top;\n",
       "    }\n",
       "\n",
       "    .dataframe thead th {\n",
       "        text-align: right;\n",
       "    }\n",
       "</style>\n",
       "<table border=\"1\" class=\"dataframe\">\n",
       "  <thead>\n",
       "    <tr style=\"text-align: right;\">\n",
       "      <th></th>\n",
       "      <th>Curtidas</th>\n",
       "      <th>Comentários</th>\n",
       "    </tr>\n",
       "    <tr>\n",
       "      <th>Carrossel</th>\n",
       "      <th></th>\n",
       "      <th></th>\n",
       "    </tr>\n",
       "  </thead>\n",
       "  <tbody>\n",
       "    <tr>\n",
       "      <th>N</th>\n",
       "      <td>13,776.36</td>\n",
       "      <td>208.57</td>\n",
       "    </tr>\n",
       "    <tr>\n",
       "      <th>S</th>\n",
       "      <td>11,817.88</td>\n",
       "      <td>140.38</td>\n",
       "    </tr>\n",
       "  </tbody>\n",
       "</table>\n",
       "</div>"
      ],
      "text/plain": [
       "           Curtidas  Comentários\n",
       "Carrossel                       \n",
       "N         13,776.36       208.57\n",
       "S         11,817.88       140.38"
      ]
     },
     "execution_count": 31,
     "metadata": {},
     "output_type": "execute_result"
    }
   ],
   "source": [
    "base.loc[base['Tipo'] == 'Foto'].groupby('Carrossel')[['Curtidas', 'Comentários']].mean()"
   ]
  },
  {
   "cell_type": "markdown",
   "id": "be965f96-d68c-4f69-8619-8ccc7950a4fb",
   "metadata": {},
   "source": [
    "**Observações:**\n",
    "\n",
    "Notamos que publicações que são carrossel não são tão relevantes para o engajamento com as publicações deste perfil."
   ]
  },
  {
   "cell_type": "markdown",
   "id": "a0e227e4-5105-4a63-9464-395f5c65e8da",
   "metadata": {},
   "source": [
    "## Conclusões"
   ]
  },
  {
   "cell_type": "markdown",
   "id": "06ebeacb-29b4-4c8b-adf1-62703ec265b3",
   "metadata": {},
   "source": [
    "Com a análise realizada, chegamos as seguintes conclusões para o perfil de nosso cliente:\n",
    "\n",
    "- Publicações que envolvem pessoas engajam muito mais do que publicações que não contam com a presença de pessoas\n",
    "- Publicações que envolvem alguma campanha da empresa apresentam melhor engajamento\n",
    "- O carrossel não foi um diferencial para melhorar o engajamento"
   ]
  }
 ],
 "metadata": {
  "kernelspec": {
   "display_name": "Python 3 (ipykernel)",
   "language": "python",
   "name": "python3"
  },
  "language_info": {
   "codemirror_mode": {
    "name": "ipython",
    "version": 3
   },
   "file_extension": ".py",
   "mimetype": "text/x-python",
   "name": "python",
   "nbconvert_exporter": "python",
   "pygments_lexer": "ipython3",
   "version": "3.10.10"
  }
 },
 "nbformat": 4,
 "nbformat_minor": 5
}
